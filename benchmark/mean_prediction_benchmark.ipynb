{
 "cells": [
  {
   "cell_type": "code",
   "execution_count": 1,
   "id": "35597bd0-f165-41c8-83f4-f08e51755157",
   "metadata": {},
   "outputs": [],
   "source": [
    "import pandas as pd"
   ]
  },
  {
   "cell_type": "code",
   "execution_count": 2,
   "id": "ffa79b7d-91e4-442a-966c-d652b244d4af",
   "metadata": {},
   "outputs": [],
   "source": [
    "df = pd.read_csv(\"submit_sample.csv\")"
   ]
  },
  {
   "cell_type": "code",
   "execution_count": 4,
   "id": "de9f8e07-89d5-4fd5-9989-bd03508b063a",
   "metadata": {},
   "outputs": [],
   "source": [
    "df[\"ARRIVAL_DELAY\"] = 6.001171168326443"
   ]
  },
  {
   "cell_type": "code",
   "execution_count": 8,
   "id": "0b1a6de6-484e-43f2-ad27-67108bad7d63",
   "metadata": {},
   "outputs": [],
   "source": [
    "df.to_csv(\"benchmark_mean.csv\", index=False)"
   ]
  }
 ],
 "metadata": {
  "kernelspec": {
   "display_name": "Python 3 (ipykernel)",
   "language": "python",
   "name": "python3"
  },
  "language_info": {
   "codemirror_mode": {
    "name": "ipython",
    "version": 3
   },
   "file_extension": ".py",
   "mimetype": "text/x-python",
   "name": "python",
   "nbconvert_exporter": "python",
   "pygments_lexer": "ipython3",
   "version": "3.8.12"
  }
 },
 "nbformat": 4,
 "nbformat_minor": 5
}
