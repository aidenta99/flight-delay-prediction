{
 "cells": [
  {
   "cell_type": "code",
   "execution_count": null,
   "metadata": {
    "jupyter": {
     "source_hidden": true
    },
    "tags": []
   },
   "outputs": [],
   "source": [
    "# !pip install xgboost"
   ]
  },
  {
   "cell_type": "code",
   "execution_count": null,
   "metadata": {
    "jupyter": {
     "source_hidden": true
    },
    "tags": []
   },
   "outputs": [],
   "source": [
    "!pip install hyperopt"
   ]
  },
  {
   "cell_type": "code",
   "execution_count": null,
   "metadata": {
    "id": "QrgPiTgpWzRZ",
    "tags": []
   },
   "outputs": [],
   "source": [
    "import pandas as pd\n",
    "import numpy as np\n",
    "import xgboost as xgb\n",
    "from sklearn.ensemble import GradientBoostingRegressor\n",
    "from sklearn.ensemble import AdaBoostRegressor\n",
    "# from lightgbm import LGBMRegressor\n",
    "from sklearn.model_selection import train_test_split\n",
    "from sklearn.metrics import mean_squared_error\n",
    "from sklearn.model_selection import KFold\n",
    "from sklearn.model_selection import cross_val_score\n",
    "import joblib"
   ]
  },
  {
   "cell_type": "code",
   "execution_count": null,
   "metadata": {},
   "outputs": [],
   "source": [
    "# Display the dataframe\n",
    "pd.set_option('display.max_columns', 100)  # or 1000\n",
    "pd.set_option('display.max_rows', 100)  # or 1000\n",
    "pd.set_option('display.max_colwidth', 100)  # or 199\n",
    "\n",
    "import warnings\n",
    "warnings.filterwarnings(\"ignore\")"
   ]
  },
  {
   "cell_type": "code",
   "execution_count": null,
   "metadata": {
    "colab": {
     "base_uri": "https://localhost:8080/"
    },
    "id": "MmchRtXkW85p",
    "outputId": "64d49e75-1c52-4127-97a4-c9fb3e73554c"
   },
   "outputs": [],
   "source": [
    "df_train_validation = pd.read_csv(\"final2_train_val.csv\", low_memory=False, index_col=\"id\")\n",
    "df_test = pd.read_csv(\"final2_test.csv\", low_memory=False, index_col=\"id\")"
   ]
  },
  {
   "cell_type": "code",
   "execution_count": null,
   "metadata": {
    "id": "t4AS7k5GVvCA"
   },
   "outputs": [],
   "source": [
    "X_train_val, y_train_val = df_train_validation.drop(\"ARRIVAL_DELAY\", axis=1), df_train_validation[\"ARRIVAL_DELAY\"]\n",
    "X_test = df_test"
   ]
  },
  {
   "cell_type": "code",
   "execution_count": null,
   "metadata": {
    "colab": {
     "base_uri": "https://localhost:8080/"
    },
    "id": "Pc-9tc2WXfkg",
    "outputId": "4522ee68-a5ae-4748-90df-a6ae714d3e1e"
   },
   "outputs": [],
   "source": [
    "df_train_validation.columns"
   ]
  },
  {
   "cell_type": "code",
   "execution_count": null,
   "metadata": {
    "colab": {
     "base_uri": "https://localhost:8080/",
     "height": 258
    },
    "id": "TsC1MGtysGXP",
    "outputId": "41aa52cf-45e6-47b9-da88-1c461414cd55"
   },
   "outputs": [],
   "source": [
    "df_test.head()"
   ]
  },
  {
   "cell_type": "code",
   "execution_count": null,
   "metadata": {
    "colab": {
     "base_uri": "https://localhost:8080/",
     "height": 49
    },
    "id": "DyDIMatX0fFR",
    "outputId": "54d2d866-2f0b-40b6-d608-6539af9b3acd"
   },
   "outputs": [],
   "source": [
    "def missingValuesInfo(df):\n",
    "    total = df.isnull().sum().sort_values(ascending = False)\n",
    "    percent = round(df.isnull().sum().sort_values(ascending = False)/len(df)*100, 2)\n",
    "    temp = pd.concat([total, percent], axis = 1,keys= ['Total', 'Percent'])\n",
    "    return temp.loc[(temp['Total'] > 0)]\n",
    "\n",
    "missingValuesInfo(df_train_validation)"
   ]
  },
  {
   "cell_type": "code",
   "execution_count": null,
   "metadata": {
    "id": "0jZQUEFr4oEX"
   },
   "outputs": [],
   "source": [
    "# Split: for XGBoost\n",
    "df_train, df_validation = train_test_split(df_train_validation, test_size=0.20, random_state = 42)\n",
    "X_train, y_train = df_train.drop(\"ARRIVAL_DELAY\", axis=1), df_train[\"ARRIVAL_DELAY\"]\n",
    "X_val, y_val = df_validation.drop(\"ARRIVAL_DELAY\", axis=1), df_validation[\"ARRIVAL_DELAY\"]"
   ]
  },
  {
   "cell_type": "code",
   "execution_count": null,
   "metadata": {
    "id": "a0Bkb1XCc-0-"
   },
   "outputs": [],
   "source": [
    "X_test = df_test"
   ]
  },
  {
   "cell_type": "markdown",
   "metadata": {},
   "source": [
    "## XGBoost Regressor"
   ]
  },
  {
   "cell_type": "markdown",
   "metadata": {
    "tags": []
   },
   "source": [
    "#### Without tuning: using preprocessing version 2"
   ]
  },
  {
   "cell_type": "code",
   "execution_count": null,
   "metadata": {},
   "outputs": [],
   "source": [
    "df_train_validation = pd.read_csv(\"final2_train_val.csv\", low_memory=False, index_col=\"id\")\n",
    "X_train_val, y_train_val = df_train_validation.drop(\"ARRIVAL_DELAY\", axis=1), df_train_validation[\"ARRIVAL_DELAY\"]\n",
    "xg_reg = xgb.XGBRegressor()\n",
    "xg_reg.fit(X_train_val,y_train_val)\n",
    "joblib.dump(xg_reg, \"xgreg-without-tuning.pkl\")"
   ]
  },
  {
   "cell_type": "code",
   "execution_count": null,
   "metadata": {},
   "outputs": [],
   "source": [
    "X_test = pd.read_csv(\"final2_test.csv\", low_memory=False, index_col=\"id\")\n",
    "eval_pred = xg_reg.predict(X_test)\n",
    "pd.DataFrame(eval_pred, columns=['ARRIVAL_DELAY']).to_csv(\"flight_result.csv\", index_label='id')"
   ]
  },
  {
   "cell_type": "code",
   "execution_count": null,
   "metadata": {
    "tags": []
   },
   "outputs": [],
   "source": [
    "import matplotlib.pyplot as plt\n",
    "ft_importances = pd.Series(xg_reg.feature_importances_, index=X_train_val.columns)\n",
    "print(ft_importances)\n",
    "ft_importances.nlargest(10).plot(kind='barh')\n",
    "plt.show()"
   ]
  },
  {
   "cell_type": "markdown",
   "metadata": {},
   "source": [
    "### Hyperparameter tuning"
   ]
  },
  {
   "cell_type": "code",
   "execution_count": null,
   "metadata": {
    "id": "FZbIvHfVhAIL"
   },
   "outputs": [],
   "source": [
    "# Hyperparameter tuning\n",
    "from hyperopt import STATUS_OK, Trials, fmin, hp, tpe\n",
    "\n",
    "space={'max_depth': hp.quniform(\"max_depth\", 3, 18, 1),\n",
    "        'gamma': hp.uniform ('gamma', 1,9),\n",
    "        'reg_alpha' : hp.quniform('reg_alpha', 40,180,1),\n",
    "        'reg_lambda' : hp.uniform('reg_lambda', 0,1),\n",
    "        'colsample_bytree' : hp.uniform('colsample_bytree', 0.5,1),\n",
    "        'min_child_weight' : hp.quniform('min_child_weight', 0, 10, 1),\n",
    "        'n_estimators': 180,\n",
    "        'seed': 0\n",
    "    }\n",
    "\n",
    "def objective(space):\n",
    "    reg = xgb.XGBRegressor(n_estimators =space['n_estimators'], \n",
    "                           max_depth = int(space['max_depth']),\n",
    "                           gamma = space['gamma'], \n",
    "                           reg_alpha = int(space['reg_alpha']),\n",
    "                           min_child_weight=int(space['min_child_weight']),\n",
    "                           colsample_bytree=int(space['colsample_bytree']))\n",
    "\n",
    "    eval_set  = [(X_train, y_train), (X_val, y_val)]\n",
    "\n",
    "    reg.fit(X_train, y_train, eval_set=eval_set, eval_metric = 'rmse',\n",
    "            early_stopping_rounds=10,verbose=False)\n",
    "    val_pred = reg.predict(X_val)\n",
    "    mse = mean_squared_error(y_val, val_pred)\n",
    "    return{'loss':mse, 'status': STATUS_OK }\n",
    "\n",
    "trials = Trials()\n",
    "best_hyperparams = fmin(fn=objective,\n",
    "            space=space,\n",
    "            algo=tpe.suggest,\n",
    "            max_evals=100,\n",
    "            trials=trials)\n",
    "\n",
    "print(best_hyperparams)\n",
    "\n",
    "print(\"The best hyperparameters are : \",\"\\n\")\n",
    "print(best_hyperparams)"
   ]
  },
  {
   "cell_type": "code",
   "execution_count": null,
   "metadata": {
    "colab": {
     "base_uri": "https://localhost:8080/"
    },
    "id": "kzs6NGAkj-Y2",
    "outputId": "f06c7820-98e8-4a5a-8522-ffc27dca7102"
   },
   "outputs": [],
   "source": [
    "best_hyperparams = {'colsample_bytree': 0.8443443748974826, 'gamma': 8.265472386809305, 'max_depth': 14, 'min_child_weight': 10, 'reg_alpha': 164.0, 'reg_lambda': 0.4112998083884938}\n",
    "\n",
    "xg_reg = xgb.XGBRegressor(**best_hyperparams)\n",
    "xg_reg.fit(X_train,y_train)\n",
    "val_pred = xg_reg.predict(X_val)\n",
    "mse = mean_squared_error(y_val, val_pred)\n",
    "print(mse)\n",
    "\n",
    "# 100.04"
   ]
  },
  {
   "cell_type": "code",
   "execution_count": null,
   "metadata": {
    "colab": {
     "base_uri": "https://localhost:8080/"
    },
    "id": "_5OASnyTV3az",
    "outputId": "a19364b0-5e53-40a9-e7b8-4d41e6f768d8"
   },
   "outputs": [],
   "source": [
    "best_hyperparams = {'colsample_bytree': 0.8443443748974826, 'gamma': 8.265472386809305, 'max_depth': 14, 'min_child_weight': 10, 'reg_alpha': 164.0, 'reg_lambda': 0.4112998083884938}\n",
    "X_train_val, y_train_val = df_train_validation.drop(\"ARRIVAL_DELAY\", axis=1), df_train_validation[\"ARRIVAL_DELAY\"]\n",
    "xg_reg = xgb.XGBRegressor(**best_hyperparams)\n",
    "xg_reg.fit(X_train_val,y_train_val)"
   ]
  },
  {
   "cell_type": "code",
   "execution_count": null,
   "metadata": {
    "colab": {
     "base_uri": "https://localhost:8080/"
    },
    "id": "7xIuHzKbvIB4",
    "outputId": "aa36ec3c-b430-4a19-dc76-f8e76e44b0eb"
   },
   "outputs": [],
   "source": [
    "joblib.dump(xg_reg, \"xgreg.pkl\")"
   ]
  },
  {
   "cell_type": "code",
   "execution_count": null,
   "metadata": {
    "id": "djYPj1N6mjT8"
   },
   "outputs": [],
   "source": [
    "eval_pred = xg_reg.predict(X_test)"
   ]
  },
  {
   "cell_type": "code",
   "execution_count": null,
   "metadata": {},
   "outputs": [],
   "source": [
    "pd.DataFrame(eval_pred, columns=['ARRIVAL_DELAY']).to_csv(\"flight_result.csv\", index_label='id')"
   ]
  },
  {
   "cell_type": "markdown",
   "metadata": {},
   "source": [
    "## Gradient Boosting Regressor"
   ]
  },
  {
   "cell_type": "code",
   "execution_count": null,
   "metadata": {
    "id": "q3bjc2vnAU4g"
   },
   "outputs": [],
   "source": [
    "df_train, df_validation = train_test_split(df_train_validation, test_size=0.20, random_state = 0)\n",
    "X_train, y_train = df_train.drop(\"ARRIVAL_DELAY\", axis=1), df_train[\"ARRIVAL_DELAY\"]\n",
    "X_val, y_val = df_validation.drop(\"ARRIVAL_DELAY\", axis=1), df_validation[\"ARRIVAL_DELAY\"]\n",
    "\n",
    "gbr = GradientBoostingRegressor()\n",
    "gbr.fit(X_train, y_train)\n",
    "val_pred = xg_reg.predict(X_val)\n",
    "mse = mean_squared_error(y_val, val_pred)\n",
    "print(mse)"
   ]
  },
  {
   "cell_type": "code",
   "execution_count": null,
   "metadata": {},
   "outputs": [],
   "source": [
    "gbr.fit(X_train_val, y_train_val)\n",
    "joblib.dump(gbr, \"gradient_boosting_regressor.pkl\")"
   ]
  },
  {
   "cell_type": "code",
   "execution_count": null,
   "metadata": {},
   "outputs": [],
   "source": [
    "eval_pred = gbr.predict(X_test)\n",
    "pd.DataFrame(eval_pred, columns=['ARRIVAL_DELAY']).to_csv(\"flight_result.csv\", index_label='id')"
   ]
  },
  {
   "cell_type": "markdown",
   "metadata": {},
   "source": [
    "## Light GBM"
   ]
  },
  {
   "cell_type": "code",
   "execution_count": null,
   "metadata": {
    "id": "5nLZcicQ2boF",
    "tags": []
   },
   "outputs": [],
   "source": [
    "# Light GBM\n",
    "lgbm = LGBMRegressor()\n",
    "xg_reg.fit(X_train, y_train)\n",
    "val_pred = xg_reg.predict(X_val)\n",
    "mse = mean_squared_error(y_val, val_pred)\n",
    "print(mse)\n",
    "# 176.54"
   ]
  },
  {
   "cell_type": "code",
   "execution_count": null,
   "metadata": {
    "id": "iqX33M22aMXF"
   },
   "outputs": [],
   "source": [
    "pd.DataFrame(eval_pred, columns=['ARRIVAL_DELAY']).to_csv(\"flight_result.csv\", index_label='id')"
   ]
  },
  {
   "cell_type": "code",
   "execution_count": null,
   "metadata": {
    "colab": {
     "base_uri": "https://localhost:8080/"
    },
    "id": "oXij4t31bxW1",
    "outputId": "a0da96b2-640b-47aa-e4d9-ef813117ca49"
   },
   "outputs": [],
   "source": [
    "# grid.fit(np.array(X_train_val), np.array(y_train_val))\n",
    "print(\"Best: %f using %s\" % (grid.best_score_, grid.best_params_))"
   ]
  },
  {
   "cell_type": "code",
   "execution_count": null,
   "metadata": {
    "id": "cSfW8caaPAyB"
   },
   "outputs": [],
   "source": [
    "joblib.dump(grid, \"stackingCV.pkl\")\n",
    "eval_pred = grid.predict(np.array(X_test))"
   ]
  },
  {
   "cell_type": "code",
   "execution_count": null,
   "metadata": {
    "id": "uQ8hsvA4PMOq"
   },
   "outputs": [],
   "source": [
    "pd.DataFrame(eval_pred, columns=['ARRIVAL_DELAY']).to_csv(\"flight_result.csv\", index_label='id')"
   ]
  },
  {
   "cell_type": "markdown",
   "metadata": {},
   "source": [
    "## CatBoostRegressor"
   ]
  },
  {
   "cell_type": "code",
   "execution_count": null,
   "metadata": {
    "tags": []
   },
   "outputs": [],
   "source": [
    "# !pip install catboost"
   ]
  },
  {
   "cell_type": "code",
   "execution_count": null,
   "metadata": {},
   "outputs": [],
   "source": [
    "import catboost as cb"
   ]
  },
  {
   "cell_type": "code",
   "execution_count": null,
   "metadata": {},
   "outputs": [],
   "source": [
    "flights_train_validation = pd.read_csv(\"final4_train_val.csv\", low_memory=False, index_col=\"id\")\n",
    "flights_test = pd.read_csv(\"final4_test.csv\", low_memory=False, index_col=\"id\")"
   ]
  },
  {
   "cell_type": "code",
   "execution_count": null,
   "metadata": {},
   "outputs": [],
   "source": [
    "X_train_val, y_train_val = flights_train_validation.drop(\"ARRIVAL_DELAY\", axis=1), flights_train_validation[\"ARRIVAL_DELAY\"]\n",
    "X_test = flights_test"
   ]
  },
  {
   "cell_type": "code",
   "execution_count": null,
   "metadata": {},
   "outputs": [],
   "source": [
    "X_test.head()"
   ]
  },
  {
   "cell_type": "code",
   "execution_count": null,
   "metadata": {
    "tags": []
   },
   "outputs": [],
   "source": [
    "cbr = cb.CatBoostRegressor(loss_function=\"RMSE\")\n",
    "cbr.fit(X_train_val, y_train_val)\n",
    "cbr.predict(X_test)\n",
    "eval_pred = cbr.predict(X_test)\n",
    "pd.DataFrame(eval_pred, columns=['ARRIVAL_DELAY']).to_csv(\"flight_result.csv\", index_label='id')"
   ]
  },
  {
   "cell_type": "code",
   "execution_count": null,
   "metadata": {},
   "outputs": [],
   "source": [
    "joblib.dump(cbr, \"catboost.pkl\")"
   ]
  },
  {
   "cell_type": "code",
   "execution_count": null,
   "metadata": {},
   "outputs": [],
   "source": [
    "import matplotlib.pyplot as plt\n",
    "ft_importances = pd.Series(cbr.feature_importances_, index=X_train_val.columns)\n",
    "ft_importances.nlargest(10).plot(kind='barh')\n",
    "plt.show()"
   ]
  },
  {
   "cell_type": "code",
   "execution_count": null,
   "metadata": {},
   "outputs": [],
   "source": [
    "ft_importances.sort_values(ascending=False)"
   ]
  },
  {
   "cell_type": "code",
   "execution_count": null,
   "metadata": {},
   "outputs": [],
   "source": [
    "# Hyperparameter tuning\n",
    "from hyperopt import STATUS_OK, Trials, fmin, hp, tpe\n",
    "\n",
    "space={'max_depth': hp.quniform(\"max_depth\", 3, 18, 1),\n",
    "        'gamma': hp.uniform ('gamma', 1,9),\n",
    "        'reg_alpha' : hp.quniform('reg_alpha', 40,180,1),\n",
    "        'reg_lambda' : hp.uniform('reg_lambda', 0,1),\n",
    "        'colsample_bytree' : hp.uniform('colsample_bytree', 0.5,1),\n",
    "        'min_child_weight' : hp.quniform('min_child_weight', 0, 10, 1),\n",
    "        'n_estimators': 180,\n",
    "        'seed': 0\n",
    "    }\n",
    "\n",
    "def objective(space):\n",
    "    reg = cbr(n_estimators =space['n_estimators'], \n",
    "                           max_depth = int(space['max_depth']),\n",
    "                           gamma = space['gamma'], \n",
    "                           reg_alpha = int(space['reg_alpha']),\n",
    "                           min_child_weight=int(space['min_child_weight']),\n",
    "                           colsample_bytree=int(space['colsample_bytree']))\n",
    "\n",
    "    eval_set  = [(X_train, y_train), (X_val, y_val)]\n",
    "\n",
    "    reg.fit(X_train, y_train, eval_set=eval_set, eval_metric = 'rmse',\n",
    "            early_stopping_rounds=10,verbose=False)\n",
    "    val_pred = reg.predict(X_val)\n",
    "    mse = mean_squared_error(y_val, val_pred)\n",
    "    return{'loss':mse, 'status': STATUS_OK }\n",
    "\n",
    "trials = Trials()\n",
    "best_hyperparams = fmin(fn=objective,\n",
    "            space=space,\n",
    "            algo=tpe.suggest,\n",
    "            max_evals=100,\n",
    "            trials=trials)\n",
    "\n",
    "print(best_hyperparams)\n",
    "\n",
    "print(\"The best hyperparameters are : \",\"\\n\")\n",
    "print(best_hyperparams)"
   ]
  },
  {
   "cell_type": "code",
   "execution_count": null,
   "metadata": {},
   "outputs": [],
   "source": [
    "cb = cb(**best_hyperparams)\n",
    "cb.fit(X_train,y_train)\n",
    "val_pred = xg_reg.predict(X_val)\n",
    "mse = mean_squared_error(y_val, val_pred)\n",
    "print(mse)"
   ]
  },
  {
   "cell_type": "markdown",
   "metadata": {},
   "source": [
    "## Stacking CV Regressor"
   ]
  },
  {
   "cell_type": "code",
   "execution_count": null,
   "metadata": {
    "tags": []
   },
   "outputs": [],
   "source": [
    "# !pip install mlxtend  "
   ]
  },
  {
   "cell_type": "code",
   "execution_count": null,
   "metadata": {
    "id": "Ou16sOxYMXIN"
   },
   "outputs": [],
   "source": [
    "# Stacking CV Regressor\n",
    "from sklearn.linear_model import Lasso\n",
    "from sklearn.linear_model import Ridge\n",
    "from mlxtend.regressor import StackingCVRegressor"
   ]
  },
  {
   "cell_type": "code",
   "execution_count": null,
   "metadata": {},
   "outputs": [],
   "source": [
    "flights_train_validation = pd.read_csv(\"final4_train_val.csv\", low_memory=False, index_col=\"id\")\n",
    "flights_test = pd.read_csv(\"final4_test.csv\", low_memory=False, index_col=\"id\")\n",
    "X_train_val, y_train_val = flights_train_validation.drop(\"ARRIVAL_DELAY\", axis=1), flights_train_validation[\"ARRIVAL_DELAY\"]\n",
    "X_test = flights_test"
   ]
  },
  {
   "cell_type": "code",
   "execution_count": null,
   "metadata": {},
   "outputs": [],
   "source": [
    "X_test.head()"
   ]
  },
  {
   "cell_type": "code",
   "execution_count": null,
   "metadata": {},
   "outputs": [],
   "source": [
    "ada = AdaBoostRegressor()\n",
    "ada.fit(X_train_val, y_train_val)\n",
    "joblib.dump(ada, \"adaboost.pkl\")"
   ]
  },
  {
   "cell_type": "code",
   "execution_count": null,
   "metadata": {},
   "outputs": [],
   "source": [
    "eval_pred = ada.predict(X_test)\n",
    "pd.DataFrame(eval_pred, columns=['ARRIVAL_DELAY']).to_csv(\"flight_result.csv\", index_label='id')"
   ]
  },
  {
   "cell_type": "code",
   "execution_count": null,
   "metadata": {},
   "outputs": [],
   "source": [
    "xgboost = xgb.XGBRegressor()\n",
    "xgboost.fit(X_train_val, y_train_val)\n",
    "joblib.dump(xgboost, \"xgboost.pkl\")\n",
    "eval_pred = xgboost.predict(X_test)\n",
    "pd.DataFrame(eval_pred, columns=['ARRIVAL_DELAY']).to_csv(\"flight_result.csv\", index_label='id')"
   ]
  },
  {
   "cell_type": "code",
   "execution_count": null,
   "metadata": {},
   "outputs": [],
   "source": [
    "catboost = joblib.load(\"catboost.pkl\")\n",
    "xgboost = joblib.load(\"xgboost.pkl\")"
   ]
  },
  {
   "cell_type": "code",
   "execution_count": null,
   "metadata": {
    "tags": []
   },
   "outputs": [],
   "source": [
    "stack = StackingCVRegressor(regressors=(xgboost, catboost, ridge, lasso), meta_regressor=catboost, use_features_in_secondary=True)\n",
    "stack.fit(X_train_val, y_train_val)"
   ]
  },
  {
   "cell_type": "code",
   "execution_count": null,
   "metadata": {},
   "outputs": [],
   "source": [
    "joblib.dump(stack, \"stackingcv.pkl\")"
   ]
  },
  {
   "cell_type": "code",
   "execution_count": null,
   "metadata": {},
   "outputs": [],
   "source": [
    "eval_pred = stack.predict(X_test)\n",
    "pd.DataFrame(eval_pred, columns=['ARRIVAL_DELAY']).to_csv(\"flight_result.csv\", index_label='id')"
   ]
  },
  {
   "cell_type": "markdown",
   "metadata": {},
   "source": [
    "## Calculating CV errors"
   ]
  },
  {
   "cell_type": "code",
   "execution_count": null,
   "metadata": {},
   "outputs": [],
   "source": [
    "catboost = joblib.load(\"catboost.pkl\")"
   ]
  },
  {
   "cell_type": "code",
   "execution_count": null,
   "metadata": {
    "tags": []
   },
   "outputs": [],
   "source": [
    "from sklearn.model_selection import KFold\n",
    "from sklearn.model_selection import cross_val_score\n",
    "\n",
    "cv = KFold(n_splits=5, random_state=1, shuffle=True)\n",
    "scores = cross_val_score(catboost, X_train_val, y_train_val, scoring='neg_mean_absolute_error',\n",
    "                         cv=cv, n_jobs=-1)\n",
    "print(scores)"
   ]
  }
 ],
 "metadata": {
  "accelerator": "GPU",
  "colab": {
   "name": "flights-delay-prediction-model.ipynb",
   "provenance": []
  },
  "environment": {
   "kernel": "python3",
   "name": "common-cu110.m82",
   "type": "gcloud",
   "uri": "gcr.io/deeplearning-platform-release/base-cu110:m82"
  },
  "kernelspec": {
   "display_name": "Python 3",
   "language": "python",
   "name": "python3"
  },
  "language_info": {
   "codemirror_mode": {
    "name": "ipython",
    "version": 3
   },
   "file_extension": ".py",
   "mimetype": "text/x-python",
   "name": "python",
   "nbconvert_exporter": "python",
   "pygments_lexer": "ipython3",
   "version": "3.7.10"
  }
 },
 "nbformat": 4,
 "nbformat_minor": 4
}
