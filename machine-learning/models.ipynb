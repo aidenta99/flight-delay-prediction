{
  "cells": [
    {
      "cell_type": "code",
      "execution_count": null,
      "metadata": {
        "id": "1MGvr6k7XJNb",
        "colab": {
          "base_uri": "https://localhost:8080/"
        },
        "outputId": "9b500dfa-9221-44cd-c9ff-50b2e28fcd54"
      },
      "outputs": [
        {
          "output_type": "stream",
          "name": "stdout",
          "text": [
            "/content/drive/MyDrive/Colab Notebooks\n"
          ]
        }
      ],
      "source": [
        "%cd /content/drive/MyDrive/Colab\\ Notebooks"
      ]
    },
    {
      "cell_type": "code",
      "execution_count": null,
      "metadata": {
        "id": "QrgPiTgpWzRZ"
      },
      "outputs": [],
      "source": [
        "import pandas as pd\n",
        "import numpy as np\n",
        "import xgboost as xgb\n",
        "from sklearn.ensemble import GradientBoostingRegressor\n",
        "from sklearn.model_selection import train_test_split\n",
        "from sklearn.metrics import mean_squared_error\n",
        "from sklearn.model_selection import KFold\n",
        "from sklearn.model_selection import cross_val_score\n",
        "import joblib"
      ]
    },
    {
      "cell_type": "code",
      "execution_count": null,
      "metadata": {
        "id": "MmchRtXkW85p",
        "colab": {
          "base_uri": "https://localhost:8080/"
        },
        "outputId": "801dbaf3-4569-4aa8-e152-d8d7a61f39bf"
      },
      "outputs": [
        {
          "output_type": "stream",
          "name": "stderr",
          "text": [
            "/usr/local/lib/python3.7/dist-packages/numpy/lib/arraysetops.py:580: FutureWarning: elementwise comparison failed; returning scalar instead, but in the future will perform elementwise comparison\n",
            "  mask |= (ar1 == a)\n"
          ]
        }
      ],
      "source": [
        "df_train_validation = pd.read_csv(\"final_train_val.csv\", low_memory=False, index_col=\"id\")\n",
        "df_test = pd.read_csv(\"final_test.csv\", low_memory=False, index_col=\"id\")"
      ]
    },
    {
      "cell_type": "code",
      "execution_count": null,
      "metadata": {
        "colab": {
          "base_uri": "https://localhost:8080/"
        },
        "id": "Pc-9tc2WXfkg",
        "outputId": "4522ee68-a5ae-4748-90df-a6ae714d3e1e"
      },
      "outputs": [
        {
          "output_type": "execute_result",
          "data": {
            "text/plain": [
              "Index(['MONTH', 'DAY', 'DAY_OF_WEEK', 'FLIGHT_NUMBER', 'SCHEDULED_DEPARTURE',\n",
              "       'TAXI_OUT', 'SCHEDULED_ARRIVAL', 'ARRIVAL_DELAY', 'LATITUDE_origin',\n",
              "       'LONGITUDE_origin', 'LATITUDE_arrival', 'LONGITUDE_arrival',\n",
              "       'AIRLINE_AA', 'AIRLINE_AS', 'AIRLINE_B6', 'AIRLINE_DL', 'AIRLINE_EV',\n",
              "       'AIRLINE_F9', 'AIRLINE_HA', 'AIRLINE_MQ', 'AIRLINE_NK', 'AIRLINE_OO',\n",
              "       'AIRLINE_UA', 'AIRLINE_US', 'AIRLINE_VX', 'AIRLINE_WN',\n",
              "       'scaled_DEPARTURE_TIME', 'scaled_WHEELS_OFF', 'scaled_SCHEDULED_TIME',\n",
              "       'scaled_DISTANCE'],\n",
              "      dtype='object')"
            ]
          },
          "metadata": {},
          "execution_count": 16
        }
      ],
      "source": [
        "df_train_validation.columns"
      ]
    },
    {
      "cell_type": "code",
      "source": [
        "df_test.head()"
      ],
      "metadata": {
        "colab": {
          "base_uri": "https://localhost:8080/",
          "height": 258
        },
        "id": "TsC1MGtysGXP",
        "outputId": "41aa52cf-45e6-47b9-da88-1c461414cd55"
      },
      "execution_count": null,
      "outputs": [
        {
          "output_type": "execute_result",
          "data": {
            "text/html": [
              "<div>\n",
              "<style scoped>\n",
              "    .dataframe tbody tr th:only-of-type {\n",
              "        vertical-align: middle;\n",
              "    }\n",
              "\n",
              "    .dataframe tbody tr th {\n",
              "        vertical-align: top;\n",
              "    }\n",
              "\n",
              "    .dataframe thead th {\n",
              "        text-align: right;\n",
              "    }\n",
              "</style>\n",
              "<table border=\"1\" class=\"dataframe\">\n",
              "  <thead>\n",
              "    <tr style=\"text-align: right;\">\n",
              "      <th></th>\n",
              "      <th>MONTH</th>\n",
              "      <th>DAY</th>\n",
              "      <th>DAY_OF_WEEK</th>\n",
              "      <th>FLIGHT_NUMBER</th>\n",
              "      <th>SCHEDULED_DEPARTURE</th>\n",
              "      <th>TAXI_OUT</th>\n",
              "      <th>SCHEDULED_ARRIVAL</th>\n",
              "      <th>LATITUDE_origin</th>\n",
              "      <th>LONGITUDE_origin</th>\n",
              "      <th>LATITUDE_arrival</th>\n",
              "      <th>LONGITUDE_arrival</th>\n",
              "      <th>AIRLINE_AA</th>\n",
              "      <th>AIRLINE_AS</th>\n",
              "      <th>AIRLINE_B6</th>\n",
              "      <th>AIRLINE_DL</th>\n",
              "      <th>AIRLINE_EV</th>\n",
              "      <th>AIRLINE_F9</th>\n",
              "      <th>AIRLINE_HA</th>\n",
              "      <th>AIRLINE_MQ</th>\n",
              "      <th>AIRLINE_NK</th>\n",
              "      <th>AIRLINE_OO</th>\n",
              "      <th>AIRLINE_UA</th>\n",
              "      <th>AIRLINE_US</th>\n",
              "      <th>AIRLINE_VX</th>\n",
              "      <th>AIRLINE_WN</th>\n",
              "      <th>scaled_DEPARTURE_TIME</th>\n",
              "      <th>scaled_WHEELS_OFF</th>\n",
              "      <th>scaled_SCHEDULED_TIME</th>\n",
              "      <th>scaled_DISTANCE</th>\n",
              "    </tr>\n",
              "    <tr>\n",
              "      <th>id</th>\n",
              "      <th></th>\n",
              "      <th></th>\n",
              "      <th></th>\n",
              "      <th></th>\n",
              "      <th></th>\n",
              "      <th></th>\n",
              "      <th></th>\n",
              "      <th></th>\n",
              "      <th></th>\n",
              "      <th></th>\n",
              "      <th></th>\n",
              "      <th></th>\n",
              "      <th></th>\n",
              "      <th></th>\n",
              "      <th></th>\n",
              "      <th></th>\n",
              "      <th></th>\n",
              "      <th></th>\n",
              "      <th></th>\n",
              "      <th></th>\n",
              "      <th></th>\n",
              "      <th></th>\n",
              "      <th></th>\n",
              "      <th></th>\n",
              "      <th></th>\n",
              "      <th></th>\n",
              "      <th></th>\n",
              "      <th></th>\n",
              "      <th></th>\n",
              "    </tr>\n",
              "  </thead>\n",
              "  <tbody>\n",
              "    <tr>\n",
              "      <th>0</th>\n",
              "      <td>7</td>\n",
              "      <td>1</td>\n",
              "      <td>3</td>\n",
              "      <td>298</td>\n",
              "      <td>3</td>\n",
              "      <td>11.0</td>\n",
              "      <td>500</td>\n",
              "      <td>36.08036</td>\n",
              "      <td>-115.15233</td>\n",
              "      <td>29.98047</td>\n",
              "      <td>-95.33972</td>\n",
              "      <td>0.0</td>\n",
              "      <td>0.0</td>\n",
              "      <td>0.0</td>\n",
              "      <td>0.0</td>\n",
              "      <td>0.0</td>\n",
              "      <td>0.0</td>\n",
              "      <td>0.0</td>\n",
              "      <td>0.0</td>\n",
              "      <td>1.0</td>\n",
              "      <td>0.0</td>\n",
              "      <td>0.0</td>\n",
              "      <td>0.0</td>\n",
              "      <td>0.0</td>\n",
              "      <td>0.0</td>\n",
              "      <td>-1.578947</td>\n",
              "      <td>-1.583333</td>\n",
              "      <td>0.606742</td>\n",
              "      <td>0.832849</td>\n",
              "    </tr>\n",
              "    <tr>\n",
              "      <th>1</th>\n",
              "      <td>7</td>\n",
              "      <td>1</td>\n",
              "      <td>3</td>\n",
              "      <td>1965</td>\n",
              "      <td>5</td>\n",
              "      <td>21.0</td>\n",
              "      <td>808</td>\n",
              "      <td>37.61900</td>\n",
              "      <td>-122.37484</td>\n",
              "      <td>35.21401</td>\n",
              "      <td>-80.94313</td>\n",
              "      <td>1.0</td>\n",
              "      <td>0.0</td>\n",
              "      <td>0.0</td>\n",
              "      <td>0.0</td>\n",
              "      <td>0.0</td>\n",
              "      <td>0.0</td>\n",
              "      <td>0.0</td>\n",
              "      <td>0.0</td>\n",
              "      <td>0.0</td>\n",
              "      <td>0.0</td>\n",
              "      <td>0.0</td>\n",
              "      <td>0.0</td>\n",
              "      <td>0.0</td>\n",
              "      <td>0.0</td>\n",
              "      <td>1.308446</td>\n",
              "      <td>-1.621324</td>\n",
              "      <td>2.022472</td>\n",
              "      <td>2.393895</td>\n",
              "    </tr>\n",
              "    <tr>\n",
              "      <th>2</th>\n",
              "      <td>7</td>\n",
              "      <td>1</td>\n",
              "      <td>3</td>\n",
              "      <td>2020</td>\n",
              "      <td>5</td>\n",
              "      <td>36.0</td>\n",
              "      <td>548</td>\n",
              "      <td>33.94254</td>\n",
              "      <td>-118.40807</td>\n",
              "      <td>35.04242</td>\n",
              "      <td>-89.97667</td>\n",
              "      <td>0.0</td>\n",
              "      <td>0.0</td>\n",
              "      <td>0.0</td>\n",
              "      <td>1.0</td>\n",
              "      <td>0.0</td>\n",
              "      <td>0.0</td>\n",
              "      <td>0.0</td>\n",
              "      <td>0.0</td>\n",
              "      <td>0.0</td>\n",
              "      <td>0.0</td>\n",
              "      <td>0.0</td>\n",
              "      <td>0.0</td>\n",
              "      <td>0.0</td>\n",
              "      <td>0.0</td>\n",
              "      <td>1.308446</td>\n",
              "      <td>-1.602941</td>\n",
              "      <td>1.123596</td>\n",
              "      <td>1.409884</td>\n",
              "    </tr>\n",
              "    <tr>\n",
              "      <th>3</th>\n",
              "      <td>7</td>\n",
              "      <td>1</td>\n",
              "      <td>3</td>\n",
              "      <td>612</td>\n",
              "      <td>5</td>\n",
              "      <td>14.0</td>\n",
              "      <td>503</td>\n",
              "      <td>36.08036</td>\n",
              "      <td>-115.15233</td>\n",
              "      <td>44.88055</td>\n",
              "      <td>-93.21692</td>\n",
              "      <td>0.0</td>\n",
              "      <td>0.0</td>\n",
              "      <td>0.0</td>\n",
              "      <td>0.0</td>\n",
              "      <td>0.0</td>\n",
              "      <td>0.0</td>\n",
              "      <td>0.0</td>\n",
              "      <td>0.0</td>\n",
              "      <td>1.0</td>\n",
              "      <td>0.0</td>\n",
              "      <td>0.0</td>\n",
              "      <td>0.0</td>\n",
              "      <td>0.0</td>\n",
              "      <td>0.0</td>\n",
              "      <td>-1.564259</td>\n",
              "      <td>-1.515931</td>\n",
              "      <td>0.617978</td>\n",
              "      <td>0.944767</td>\n",
              "    </tr>\n",
              "    <tr>\n",
              "      <th>4</th>\n",
              "      <td>7</td>\n",
              "      <td>1</td>\n",
              "      <td>3</td>\n",
              "      <td>1044</td>\n",
              "      <td>8</td>\n",
              "      <td>20.0</td>\n",
              "      <td>912</td>\n",
              "      <td>61.17432</td>\n",
              "      <td>-149.99619</td>\n",
              "      <td>41.97960</td>\n",
              "      <td>-87.90446</td>\n",
              "      <td>0.0</td>\n",
              "      <td>0.0</td>\n",
              "      <td>0.0</td>\n",
              "      <td>0.0</td>\n",
              "      <td>0.0</td>\n",
              "      <td>0.0</td>\n",
              "      <td>0.0</td>\n",
              "      <td>0.0</td>\n",
              "      <td>0.0</td>\n",
              "      <td>0.0</td>\n",
              "      <td>1.0</td>\n",
              "      <td>0.0</td>\n",
              "      <td>0.0</td>\n",
              "      <td>0.0</td>\n",
              "      <td>-1.608323</td>\n",
              "      <td>-1.601716</td>\n",
              "      <td>2.707865</td>\n",
              "      <td>3.193314</td>\n",
              "    </tr>\n",
              "  </tbody>\n",
              "</table>\n",
              "</div>"
            ],
            "text/plain": [
              "    MONTH  DAY  ...  scaled_SCHEDULED_TIME  scaled_DISTANCE\n",
              "id              ...                                        \n",
              "0       7    1  ...               0.606742         0.832849\n",
              "1       7    1  ...               2.022472         2.393895\n",
              "2       7    1  ...               1.123596         1.409884\n",
              "3       7    1  ...               0.617978         0.944767\n",
              "4       7    1  ...               2.707865         3.193314\n",
              "\n",
              "[5 rows x 29 columns]"
            ]
          },
          "metadata": {},
          "execution_count": 9
        }
      ]
    },
    {
      "cell_type": "code",
      "source": [
        "pd.read_csv(\"flights_test.csv\").head()"
      ],
      "metadata": {
        "colab": {
          "base_uri": "https://localhost:8080/",
          "height": 226
        },
        "id": "wdB4_V7nsM7I",
        "outputId": "8a12234b-f39b-42c2-9847-611613c7cdcb"
      },
      "execution_count": null,
      "outputs": [
        {
          "output_type": "execute_result",
          "data": {
            "text/html": [
              "<div>\n",
              "<style scoped>\n",
              "    .dataframe tbody tr th:only-of-type {\n",
              "        vertical-align: middle;\n",
              "    }\n",
              "\n",
              "    .dataframe tbody tr th {\n",
              "        vertical-align: top;\n",
              "    }\n",
              "\n",
              "    .dataframe thead th {\n",
              "        text-align: right;\n",
              "    }\n",
              "</style>\n",
              "<table border=\"1\" class=\"dataframe\">\n",
              "  <thead>\n",
              "    <tr style=\"text-align: right;\">\n",
              "      <th></th>\n",
              "      <th>id</th>\n",
              "      <th>YEAR</th>\n",
              "      <th>MONTH</th>\n",
              "      <th>DAY</th>\n",
              "      <th>DAY_OF_WEEK</th>\n",
              "      <th>AIRLINE</th>\n",
              "      <th>FLIGHT_NUMBER</th>\n",
              "      <th>TAIL_NUMBER</th>\n",
              "      <th>ORIGIN_AIRPORT</th>\n",
              "      <th>DESTINATION_AIRPORT</th>\n",
              "      <th>SCHEDULED_DEPARTURE</th>\n",
              "      <th>DEPARTURE_TIME</th>\n",
              "      <th>TAXI_OUT</th>\n",
              "      <th>WHEELS_OFF</th>\n",
              "      <th>SCHEDULED_TIME</th>\n",
              "      <th>DISTANCE</th>\n",
              "      <th>SCHEDULED_ARRIVAL</th>\n",
              "    </tr>\n",
              "  </thead>\n",
              "  <tbody>\n",
              "    <tr>\n",
              "      <th>0</th>\n",
              "      <td>0</td>\n",
              "      <td>2015</td>\n",
              "      <td>7</td>\n",
              "      <td>1</td>\n",
              "      <td>3</td>\n",
              "      <td>NK</td>\n",
              "      <td>298</td>\n",
              "      <td>N624NK</td>\n",
              "      <td>LAS</td>\n",
              "      <td>IAH</td>\n",
              "      <td>3</td>\n",
              "      <td>41.0</td>\n",
              "      <td>11.0</td>\n",
              "      <td>52.0</td>\n",
              "      <td>177.0</td>\n",
              "      <td>1222</td>\n",
              "      <td>500</td>\n",
              "    </tr>\n",
              "    <tr>\n",
              "      <th>1</th>\n",
              "      <td>1</td>\n",
              "      <td>2015</td>\n",
              "      <td>7</td>\n",
              "      <td>1</td>\n",
              "      <td>3</td>\n",
              "      <td>AA</td>\n",
              "      <td>1965</td>\n",
              "      <td>N507AY</td>\n",
              "      <td>SFO</td>\n",
              "      <td>CLT</td>\n",
              "      <td>5</td>\n",
              "      <td>2400.0</td>\n",
              "      <td>21.0</td>\n",
              "      <td>21.0</td>\n",
              "      <td>303.0</td>\n",
              "      <td>2296</td>\n",
              "      <td>808</td>\n",
              "    </tr>\n",
              "    <tr>\n",
              "      <th>2</th>\n",
              "      <td>2</td>\n",
              "      <td>2015</td>\n",
              "      <td>7</td>\n",
              "      <td>1</td>\n",
              "      <td>3</td>\n",
              "      <td>DL</td>\n",
              "      <td>2020</td>\n",
              "      <td>N3759</td>\n",
              "      <td>LAX</td>\n",
              "      <td>MEM</td>\n",
              "      <td>5</td>\n",
              "      <td>2400.0</td>\n",
              "      <td>36.0</td>\n",
              "      <td>36.0</td>\n",
              "      <td>223.0</td>\n",
              "      <td>1619</td>\n",
              "      <td>548</td>\n",
              "    </tr>\n",
              "    <tr>\n",
              "      <th>3</th>\n",
              "      <td>3</td>\n",
              "      <td>2015</td>\n",
              "      <td>7</td>\n",
              "      <td>1</td>\n",
              "      <td>3</td>\n",
              "      <td>NK</td>\n",
              "      <td>612</td>\n",
              "      <td>N629NK</td>\n",
              "      <td>LAS</td>\n",
              "      <td>MSP</td>\n",
              "      <td>5</td>\n",
              "      <td>53.0</td>\n",
              "      <td>14.0</td>\n",
              "      <td>107.0</td>\n",
              "      <td>178.0</td>\n",
              "      <td>1299</td>\n",
              "      <td>503</td>\n",
              "    </tr>\n",
              "    <tr>\n",
              "      <th>4</th>\n",
              "      <td>4</td>\n",
              "      <td>2015</td>\n",
              "      <td>7</td>\n",
              "      <td>1</td>\n",
              "      <td>3</td>\n",
              "      <td>UA</td>\n",
              "      <td>1044</td>\n",
              "      <td>N39418</td>\n",
              "      <td>ANC</td>\n",
              "      <td>ORD</td>\n",
              "      <td>8</td>\n",
              "      <td>17.0</td>\n",
              "      <td>20.0</td>\n",
              "      <td>37.0</td>\n",
              "      <td>364.0</td>\n",
              "      <td>2846</td>\n",
              "      <td>912</td>\n",
              "    </tr>\n",
              "  </tbody>\n",
              "</table>\n",
              "</div>"
            ],
            "text/plain": [
              "   id  YEAR  MONTH  ...  SCHEDULED_TIME  DISTANCE SCHEDULED_ARRIVAL\n",
              "0   0  2015      7  ...           177.0      1222               500\n",
              "1   1  2015      7  ...           303.0      2296               808\n",
              "2   2  2015      7  ...           223.0      1619               548\n",
              "3   3  2015      7  ...           178.0      1299               503\n",
              "4   4  2015      7  ...           364.0      2846               912\n",
              "\n",
              "[5 rows x 17 columns]"
            ]
          },
          "metadata": {},
          "execution_count": 10
        }
      ]
    },
    {
      "cell_type": "code",
      "source": [
        "def missingValuesInfo(df):\n",
        "    total = df.isnull().sum().sort_values(ascending = False)\n",
        "    percent = round(df.isnull().sum().sort_values(ascending = False)/len(df)*100, 2)\n",
        "    temp = pd.concat([total, percent], axis = 1,keys= ['Total', 'Percent'])\n",
        "    return temp.loc[(temp['Total'] > 0)]\n",
        "\n",
        "missingValuesInfo(df_train_validation)"
      ],
      "metadata": {
        "colab": {
          "base_uri": "https://localhost:8080/",
          "height": 49
        },
        "id": "DyDIMatX0fFR",
        "outputId": "54d2d866-2f0b-40b6-d608-6539af9b3acd"
      },
      "execution_count": null,
      "outputs": [
        {
          "output_type": "execute_result",
          "data": {
            "text/html": [
              "<div>\n",
              "<style scoped>\n",
              "    .dataframe tbody tr th:only-of-type {\n",
              "        vertical-align: middle;\n",
              "    }\n",
              "\n",
              "    .dataframe tbody tr th {\n",
              "        vertical-align: top;\n",
              "    }\n",
              "\n",
              "    .dataframe thead th {\n",
              "        text-align: right;\n",
              "    }\n",
              "</style>\n",
              "<table border=\"1\" class=\"dataframe\">\n",
              "  <thead>\n",
              "    <tr style=\"text-align: right;\">\n",
              "      <th></th>\n",
              "      <th>Total</th>\n",
              "      <th>Percent</th>\n",
              "    </tr>\n",
              "  </thead>\n",
              "  <tbody>\n",
              "  </tbody>\n",
              "</table>\n",
              "</div>"
            ],
            "text/plain": [
              "Empty DataFrame\n",
              "Columns: [Total, Percent]\n",
              "Index: []"
            ]
          },
          "metadata": {},
          "execution_count": 5
        }
      ]
    },
    {
      "cell_type": "code",
      "execution_count": null,
      "metadata": {
        "id": "2UhpjjdUXYdP"
      },
      "outputs": [],
      "source": [
        ""
      ]
    },
    {
      "cell_type": "code",
      "source": [
        "# Split: for XGBoost\n",
        "df_train, df_validation = train_test_split(df_train_validation, test_size=0.20, random_state = 42)\n",
        "X_train, y_train = df_train.drop(\"ARRIVAL_DELAY\", axis=1), df_train[\"ARRIVAL_DELAY\"]\n",
        "X_val, y_val = df_validation.drop(\"ARRIVAL_DELAY\", axis=1), df_validation[\"ARRIVAL_DELAY\"]\n",
        "X_test = df_test"
      ],
      "metadata": {
        "id": "0jZQUEFr4oEX"
      },
      "execution_count": null,
      "outputs": []
    },
    {
      "cell_type": "code",
      "source": [
        "from lightgbm import LGBMRegressor"
      ],
      "metadata": {
        "id": "a0Bkb1XCc-0-"
      },
      "execution_count": null,
      "outputs": []
    },
    {
      "cell_type": "code",
      "execution_count": null,
      "metadata": {
        "id": "FZbIvHfVhAIL"
      },
      "outputs": [],
      "source": [
        "# Hyperparameter tuning\n",
        "from hyperopt import STATUS_OK, Trials, fmin, hp, tpe\n",
        "\n",
        "\n",
        "space={'max_depth': hp.quniform(\"max_depth\", 3, 18, 1),\n",
        "        'gamma': hp.uniform ('gamma', 1,9),\n",
        "        'reg_alpha' : hp.quniform('reg_alpha', 40,180,1),\n",
        "        'reg_lambda' : hp.uniform('reg_lambda', 0,1),\n",
        "        'colsample_bytree' : hp.uniform('colsample_bytree', 0.5,1),\n",
        "        'min_child_weight' : hp.quniform('min_child_weight', 0, 10, 1),\n",
        "        'n_estimators': 180,\n",
        "        'seed': 0\n",
        "    }\n",
        "\n",
        "def objective(space):\n",
        "    reg = xgb.XGBRegressor(n_estimators =space['n_estimators'], \n",
        "                           max_depth = int(space['max_depth']),\n",
        "                           gamma = space['gamma'], \n",
        "                           reg_alpha = int(space['reg_alpha']),\n",
        "                           min_child_weight=int(space['min_child_weight']),\n",
        "                           colsample_bytree=int(space['colsample_bytree']))\n",
        "\n",
        "    eval_set  = [(X_train, y_train), (X_val, y_val)]\n",
        "\n",
        "    reg.fit(X_train, y_train, eval_set=eval_set, eval_metric = 'rmse',\n",
        "\t\t\t\t\t\tearly_stopping_rounds=10,verbose=False)\n",
        "    val_pred = reg.predict(X_val)\n",
        "    mse = mean_squared_error(y_val, val_pred)\n",
        "    return{'loss':mse, 'status': STATUS_OK }\n",
        "\n",
        "trials = Trials()\n",
        "best_hyperparams = fmin(fn=objective,\n",
        "            space=space,\n",
        "            algo=tpe.suggest,\n",
        "            max_evals=5,\n",
        "            trials=trials)\n",
        "\n",
        "print(best_hyperparams)\n",
        "\n",
        "print(\"The best hyperparameters are : \",\"\\n\")\n",
        "print(best_hyperparams)"
      ]
    },
    {
      "cell_type": "code",
      "source": [
        "best_hyperparams = {'colsample_bytree': 0.5792280519850819, 'gamma': 2.066360196498205, 'max_depth': 17, 'min_child_weight': 9, 'reg_alpha': 169, 'reg_lambda': 0.8100274580712421}\n",
        "\n",
        "xg_reg = xgb.XGBRegressor(**best_hyperparams)\n",
        "xg_reg.fit(X_train,y_train)\n",
        "val_pred = xg_reg.predict(X_val)\n",
        "mse = mean_squared_error(y_val, val_pred)\n",
        "print(mse)"
      ],
      "metadata": {
        "colab": {
          "base_uri": "https://localhost:8080/"
        },
        "id": "kzs6NGAkj-Y2",
        "outputId": "f06c7820-98e8-4a5a-8522-ffc27dca7102"
      },
      "execution_count": null,
      "outputs": [
        {
          "output_type": "stream",
          "name": "stdout",
          "text": [
            "[16:48:51] WARNING: /workspace/src/objective/regression_obj.cu:152: reg:linear is now deprecated in favor of reg:squarederror.\n",
            "10.00209335087714\n"
          ]
        }
      ]
    },
    {
      "cell_type": "code",
      "source": [
        "joblib.dump(xg_reg, \"xgreg.pkl\")"
      ],
      "metadata": {
        "colab": {
          "base_uri": "https://localhost:8080/"
        },
        "id": "7xIuHzKbvIB4",
        "outputId": "e4fe546c-4fa2-48df-e36f-73612ccdb914"
      },
      "execution_count": null,
      "outputs": [
        {
          "output_type": "execute_result",
          "data": {
            "text/plain": [
              "['xgreg.pkl']"
            ]
          },
          "metadata": {},
          "execution_count": 13
        }
      ]
    },
    {
      "cell_type": "code",
      "source": [
        "eval_pred = xg_reg.predict(X_test)"
      ],
      "metadata": {
        "id": "djYPj1N6mjT8"
      },
      "execution_count": null,
      "outputs": []
    },
    {
      "cell_type": "code",
      "execution_count": null,
      "metadata": {
        "id": "qpJ_YwCDtNPK"
      },
      "outputs": [],
      "source": [
        "# GradientBoostingRegressor\n",
        "# build our model scoring function\n",
        "kfolds = KFold(n_splits=10, shuffle=True, random_state=42)\n",
        "def cv_mse(model, X, y):\n",
        "    mse = - cross_val_score(model, X, y, scoring=\"neg_mean_squared_error\", cv=kfolds)\n",
        "    return (mse)\n",
        "\n",
        "X_train_cv, y_train_cv = df_train_validation.drop(\"ARRIVAL_DELAY\", axis=1), df_train_validation[\"ARRIVAL_DELAY\"]\n",
        "gbr = GradientBoostingRegressor()\n",
        "score = cv_mse(gbr, X_train_cv, y_train_cv)\n",
        "print(score)"
      ]
    },
    {
      "cell_type": "code",
      "source": [
        "gbr.fit(X_train_cv, y_train_cv)\n",
        "joblib.dump(gbr, \"gradient_boosting_regressor.pkl\")"
      ],
      "metadata": {
        "id": "q3bjc2vnAU4g"
      },
      "execution_count": null,
      "outputs": []
    },
    {
      "cell_type": "code",
      "execution_count": null,
      "metadata": {
        "id": "iqX33M22aMXF"
      },
      "outputs": [],
      "source": [
        "pd.DataFrame(eval_pred, columns=['ARRIVAL_DELAY']).to_csv(\"flight_result.csv\", index_label='id')"
      ]
    }
  ],
  "metadata": {
    "accelerator": "GPU",
    "colab": {
      "name": "flights-delay-prediction-model.ipynb",
      "provenance": []
    },
    "kernelspec": {
      "display_name": "Python 3",
      "name": "python3"
    },
    "language_info": {
      "name": "python"
    }
  },
  "nbformat": 4,
  "nbformat_minor": 0
}