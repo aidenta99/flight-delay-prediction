{
 "cells": [
  {
   "cell_type": "code",
   "execution_count": 1,
   "id": "3f056bd7",
   "metadata": {
    "_cell_guid": "b1076dfc-b9ad-4769-8c92-a6c4dae69d19",
    "_uuid": "8f2839f25d086af736a60e9eeb907d3b93b6e0e5",
    "execution": {
     "iopub.execute_input": "2021-12-10T10:38:04.701748Z",
     "iopub.status.busy": "2021-12-10T10:38:04.700549Z",
     "iopub.status.idle": "2021-12-10T10:38:11.995936Z",
     "shell.execute_reply": "2021-12-10T10:38:11.996655Z",
     "shell.execute_reply.started": "2021-12-10T10:11:56.94531Z"
    },
    "papermill": {
     "duration": 7.328497,
     "end_time": "2021-12-10T10:38:11.996962",
     "exception": false,
     "start_time": "2021-12-10T10:38:04.668465",
     "status": "completed"
    },
    "tags": []
   },
   "outputs": [
    {
     "name": "stdout",
     "output_type": "stream",
     "text": [
      "/kaggle/input/flight-delays-prediction-challeng2021/airports.csv\n",
      "/kaggle/input/flight-delays-prediction-challeng2021/airlines.csv\n",
      "/kaggle/input/flight-delays-prediction-challeng2021/flights_test.csv\n",
      "/kaggle/input/flight-delays-prediction-challeng2021/flights_train.csv\n",
      "/kaggle/input/flight-delays-prediction-challeng2021/submit_sample.csv\n",
      "/kaggle/input/aml-model/first_model/__notebook_source__.ipynb\n",
      "/kaggle/input/aml-model/first_model/new_model/saved_model.pb\n",
      "/kaggle/input/aml-model/first_model/new_model/keras_metadata.pb\n",
      "/kaggle/input/aml-model/first_model/new_model/variables/variables.index\n",
      "/kaggle/input/aml-model/first_model/new_model/variables/variables.data-00000-of-00001\n",
      "/kaggle/input/aml-model/new_model/new_model/saved_model.pb\n",
      "/kaggle/input/aml-model/new_model/new_model/keras_metadata.pb\n",
      "/kaggle/input/aml-model/new_model/new_model/variables/variables.index\n",
      "/kaggle/input/aml-model/new_model/new_model/variables/variables.data-00000-of-00001\n",
      "/kaggle/input/aml-model/garbage/saved_model.pb\n",
      "/kaggle/input/aml-model/garbage/keras_metadata.pb\n",
      "/kaggle/input/aml-model/garbage/variables/variables.index\n",
      "/kaggle/input/aml-model/garbage/variables/variables.data-00000-of-00001\n",
      "/kaggle/input/aml-project/flights_validation.csv\n",
      "/kaggle/input/aml-project/flights_training.csv\n",
      "/kaggle/input/aml-project/flights_testing.csv\n"
     ]
    }
   ],
   "source": [
    "# This Python 3 environment comes with many helpful analytics libraries installed\n",
    "# It is defined by the kaggle/python Docker image: https://github.com/kaggle/docker-python\n",
    "# For example, here's several helpful packages to load\n",
    "\n",
    "import numpy as np # linear algebra\n",
    "import pandas as pd # data processing, CSV file I/O (e.g. pd.read_csv)\n",
    "\n",
    "# Input data files are available in the read-only \"../input/\" directory\n",
    "# For example, running this (by clicking run or pressing Shift+Enter) will list all files under the input directory\n",
    "\n",
    "import os\n",
    "for dirname, _, filenames in os.walk('/kaggle/input'):\n",
    "    for filename in filenames:\n",
    "        print(os.path.join(dirname, filename))\n",
    "        \n",
    "from sklearn import preprocessing\n",
    "\n",
    "from tensorflow.keras.models import Sequential\n",
    "from tensorflow.keras.layers import Dense\n",
    "from sklearn.preprocessing import StandardScaler, LabelBinarizer\n",
    "from tensorflow.keras.layers import Dense, Conv2D , SeparableConv2D, MaxPool2D, Flatten , Dropout , BatchNormalization\n",
    "from sklearn.metrics import r2_score\n",
    "\n",
    "import tensorflow as tf\n",
    "from tensorflow import keras\n",
    "\n",
    "from scipy.stats import zscore\n",
    "from bayes_opt import BayesianOptimization\n",
    "import keras_tuner as kt\n",
    "\n",
    "\n",
    "\n",
    "# You can write up to 20GB to the current directory (/kaggle/working/) that gets preserved as output when you create a version using \"Save & Run All\" \n",
    "# You can also write temporary files to /kaggle/temp/, but they won't be saved outside of the current session"
   ]
  },
  {
   "cell_type": "code",
   "execution_count": 2,
   "id": "2d0aa267",
   "metadata": {
    "execution": {
     "iopub.execute_input": "2021-12-10T10:38:12.055306Z",
     "iopub.status.busy": "2021-12-10T10:38:12.053045Z",
     "iopub.status.idle": "2021-12-10T10:38:29.119472Z",
     "shell.execute_reply": "2021-12-10T10:38:29.120007Z",
     "shell.execute_reply.started": "2021-12-10T10:10:04.351625Z"
    },
    "papermill": {
     "duration": 17.095236,
     "end_time": "2021-12-10T10:38:29.120210",
     "exception": false,
     "start_time": "2021-12-10T10:38:12.024974",
     "status": "completed"
    },
    "tags": []
   },
   "outputs": [],
   "source": [
    "train = pd.read_csv('../input/aml-project/flights_training.csv')\n",
    "test = pd.read_csv('../input/aml-project/flights_testing.csv')\n",
    "val = pd.read_csv('../input/aml-project/flights_validation.csv')"
   ]
  },
  {
   "cell_type": "code",
   "execution_count": 3,
   "id": "1a371be7",
   "metadata": {
    "execution": {
     "iopub.execute_input": "2021-12-10T10:38:29.178004Z",
     "iopub.status.busy": "2021-12-10T10:38:29.176852Z",
     "iopub.status.idle": "2021-12-10T10:38:29.188811Z",
     "shell.execute_reply": "2021-12-10T10:38:29.188088Z",
     "shell.execute_reply.started": "2021-12-10T10:04:56.658302Z"
    },
    "papermill": {
     "duration": 0.042796,
     "end_time": "2021-12-10T10:38:29.188974",
     "exception": false,
     "start_time": "2021-12-10T10:38:29.146178",
     "status": "completed"
    },
    "tags": []
   },
   "outputs": [],
   "source": [
    "airp = pd.read_csv('../input/flight-delays-prediction-challeng2021/airports.csv')"
   ]
  },
  {
   "cell_type": "code",
   "execution_count": 4,
   "id": "d63bb60a",
   "metadata": {
    "execution": {
     "iopub.execute_input": "2021-12-10T10:38:29.261085Z",
     "iopub.status.busy": "2021-12-10T10:38:29.260308Z",
     "iopub.status.idle": "2021-12-10T10:38:29.263202Z",
     "shell.execute_reply": "2021-12-10T10:38:29.262545Z",
     "shell.execute_reply.started": "2021-12-10T10:04:56.872233Z"
    },
    "papermill": {
     "duration": 0.047358,
     "end_time": "2021-12-10T10:38:29.263362",
     "exception": false,
     "start_time": "2021-12-10T10:38:29.216004",
     "status": "completed"
    },
    "tags": []
   },
   "outputs": [],
   "source": [
    "airp = airp.set_index('IATA_CODE')\n",
    "airp.at['ECP','LATITUDE'] = 30.176592\n",
    "airp.at['ECP','LONGITUDE'] = -85.805489\n",
    "airp.at['PBG','LATITUDE'] = 44.659709\n",
    "airp.at['PBG','LONGITUDE'] = -73.467220\n",
    "airp.at['UST','LATITUDE'] = 29.958600\n",
    "airp.at['UST','LONGITUDE'] = -81.338900\n",
    "airp = airp.reset_index()\n"
   ]
  },
  {
   "cell_type": "code",
   "execution_count": 5,
   "id": "e52d4719",
   "metadata": {
    "execution": {
     "iopub.execute_input": "2021-12-10T10:38:29.322710Z",
     "iopub.status.busy": "2021-12-10T10:38:29.321956Z",
     "iopub.status.idle": "2021-12-10T10:38:29.330336Z",
     "shell.execute_reply": "2021-12-10T10:38:29.329794Z",
     "shell.execute_reply.started": "2021-12-10T09:22:21.949566Z"
    },
    "papermill": {
     "duration": 0.040694,
     "end_time": "2021-12-10T10:38:29.330623",
     "exception": false,
     "start_time": "2021-12-10T10:38:29.289929",
     "status": "completed"
    },
    "tags": []
   },
   "outputs": [],
   "source": [
    "airp.to_csv('airports.csv')"
   ]
  },
  {
   "cell_type": "code",
   "execution_count": 6,
   "id": "a37bd009",
   "metadata": {
    "execution": {
     "iopub.execute_input": "2021-12-10T10:38:29.391210Z",
     "iopub.status.busy": "2021-12-10T10:38:29.390543Z",
     "iopub.status.idle": "2021-12-10T10:38:29.402478Z",
     "shell.execute_reply": "2021-12-10T10:38:29.402967Z",
     "shell.execute_reply.started": "2021-12-10T09:22:04.935872Z"
    },
    "papermill": {
     "duration": 0.046858,
     "end_time": "2021-12-10T10:38:29.403129",
     "exception": false,
     "start_time": "2021-12-10T10:38:29.356271",
     "status": "completed"
    },
    "tags": []
   },
   "outputs": [
    {
     "data": {
      "text/html": [
       "<div>\n",
       "<style scoped>\n",
       "    .dataframe tbody tr th:only-of-type {\n",
       "        vertical-align: middle;\n",
       "    }\n",
       "\n",
       "    .dataframe tbody tr th {\n",
       "        vertical-align: top;\n",
       "    }\n",
       "\n",
       "    .dataframe thead th {\n",
       "        text-align: right;\n",
       "    }\n",
       "</style>\n",
       "<table border=\"1\" class=\"dataframe\">\n",
       "  <thead>\n",
       "    <tr style=\"text-align: right;\">\n",
       "      <th></th>\n",
       "      <th>IATA_CODE</th>\n",
       "      <th>AIRPORT</th>\n",
       "      <th>CITY</th>\n",
       "      <th>STATE</th>\n",
       "      <th>COUNTRY</th>\n",
       "      <th>LATITUDE</th>\n",
       "      <th>LONGITUDE</th>\n",
       "    </tr>\n",
       "  </thead>\n",
       "  <tbody>\n",
       "  </tbody>\n",
       "</table>\n",
       "</div>"
      ],
      "text/plain": [
       "Empty DataFrame\n",
       "Columns: [IATA_CODE, AIRPORT, CITY, STATE, COUNTRY, LATITUDE, LONGITUDE]\n",
       "Index: []"
      ]
     },
     "execution_count": 6,
     "metadata": {},
     "output_type": "execute_result"
    }
   ],
   "source": [
    "airp[airp['LATITUDE'].isnull()]"
   ]
  },
  {
   "cell_type": "markdown",
   "id": "24362110",
   "metadata": {
    "execution": {
     "iopub.execute_input": "2021-12-09T20:57:25.657722Z",
     "iopub.status.busy": "2021-12-09T20:57:25.657374Z",
     "iopub.status.idle": "2021-12-09T20:57:25.668716Z",
     "shell.execute_reply": "2021-12-09T20:57:25.66754Z",
     "shell.execute_reply.started": "2021-12-09T20:57:25.657685Z"
    },
    "papermill": {
     "duration": 0.026046,
     "end_time": "2021-12-10T10:38:29.455453",
     "exception": false,
     "start_time": "2021-12-10T10:38:29.429407",
     "status": "completed"
    },
    "tags": []
   },
   "source": [
    "def split_data():\n",
    "    \n",
    "    #CHANGE INPUT LOCATION\n",
    "    airports = airp_and_airp\n",
    "    flights_train = pd.read_csv('../input/flight-delays-prediction-challeng2021/flights_train.csv')\n",
    "    \n",
    "    airports_origin = airports[['IATA_CODE','LATITUDE','LONGITUDE']].rename(columns = {'IATA_CODE' : 'ORIGIN_AIRPORT'})\n",
    "    airports_arrive = airports[['IATA_CODE','LATITUDE','LONGITUDE']].rename(columns = {'IATA_CODE' : 'DESTINATION_AIRPORT'})\n",
    "    flights_train = flights_train.merge(airports_origin, on = 'ORIGIN_AIRPORT').rename(columns = {'LATITUDE' : 'LATITUDE_origin', 'LONGITUDE' : 'LONGITUDE_origin'})\n",
    "    flights_train = flights_train.merge(airports_arrive, on = 'DESTINATION_AIRPORT').rename(columns = {'LATITUDE' : 'LATITUDE_arrival', 'LONGITUDE' : 'LONGITUDE_arrival'})\n",
    "    \n",
    "    train, test_val = train_test_split(flights_train, test_size=0.20, random_state = 42)\n",
    "    test, val = train_test_split(test_val, test_size=0.6, random_state = 42)\n",
    "    print('splitted data into parts with sizes: {} train, {} test and {} validation'.format(len(train), len(test), len(val)))\n",
    "    \n",
    "    #CHANGE OUTPUT NAMES\n",
    "    train.to_csv('flights_training.csv')\n",
    "    test.to_csv('flights_testing.csv')\n",
    "    val.to_csv('flights_validation.csv')"
   ]
  },
  {
   "cell_type": "markdown",
   "id": "adfa5a7c",
   "metadata": {
    "_kg_hide-input": false,
    "execution": {
     "iopub.execute_input": "2021-12-10T09:06:43.946755Z",
     "iopub.status.busy": "2021-12-10T09:06:43.945734Z",
     "iopub.status.idle": "2021-12-10T09:06:43.952308Z",
     "shell.execute_reply": "2021-12-10T09:06:43.951488Z",
     "shell.execute_reply.started": "2021-12-10T09:06:43.946702Z"
    },
    "papermill": {
     "duration": 0.02548,
     "end_time": "2021-12-10T10:38:29.506931",
     "exception": false,
     "start_time": "2021-12-10T10:38:29.481451",
     "status": "completed"
    },
    "tags": []
   },
   "source": [
    "name_list = ['ATL',\n",
    " 'BNA',\n",
    " 'BWI',\n",
    " 'DAL',\n",
    " 'ECP',\n",
    " 'FLL',\n",
    " 'HOU',\n",
    " 'IAD',\n",
    " 'IAH',\n",
    " 'MYR',\n",
    " 'PBG',\n",
    " 'STL',\n",
    " 'TTN',\n",
    " 'UST']"
   ]
  },
  {
   "cell_type": "markdown",
   "id": "126c67e2",
   "metadata": {
    "_kg_hide-input": false,
    "execution": {
     "iopub.execute_input": "2021-12-10T09:07:13.699561Z",
     "iopub.status.busy": "2021-12-10T09:07:13.699057Z",
     "iopub.status.idle": "2021-12-10T09:07:13.706944Z",
     "shell.execute_reply": "2021-12-10T09:07:13.706297Z",
     "shell.execute_reply.started": "2021-12-10T09:07:13.699493Z"
    },
    "papermill": {
     "duration": 0.025926,
     "end_time": "2021-12-10T10:38:29.558462",
     "exception": false,
     "start_time": "2021-12-10T10:38:29.532536",
     "status": "completed"
    },
    "tags": []
   },
   "source": [
    "new_df = {}\n",
    "new_df['AIRPORTS'] = []\n",
    "new_df['LONGITUDE'] = []\n",
    "new_df['LATITUDE'] = []\n",
    "for i in range(len(lat_long_list)):\n",
    "    airport = name_list[i]\n",
    "    lat, long = lat_long_list[i]\n",
    "    new_df['AIRPORTS'].append(airport)\n",
    "    new_df['LONGITUDE'].append(long)\n",
    "    new_df['LATITUDE'].append(lat)"
   ]
  },
  {
   "cell_type": "markdown",
   "id": "33351fef",
   "metadata": {
    "execution": {
     "iopub.execute_input": "2021-12-10T09:06:50.41606Z",
     "iopub.status.busy": "2021-12-10T09:06:50.415377Z",
     "iopub.status.idle": "2021-12-10T09:06:50.423964Z",
     "shell.execute_reply": "2021-12-10T09:06:50.423214Z",
     "shell.execute_reply.started": "2021-12-10T09:06:50.416002Z"
    },
    "papermill": {
     "duration": 0.025388,
     "end_time": "2021-12-10T10:38:29.609548",
     "exception": false,
     "start_time": "2021-12-10T10:38:29.584160",
     "status": "completed"
    },
    "tags": []
   },
   "source": [
    "lat_long_list = [\n",
    "[33.640411, -84.419853],\n",
    "[36.131687, -86.668823],\n",
    "[39.177404, -76.668392],\n",
    "[32.848152,-96.851349],\n",
    "[30.176592, -85.805489],\n",
    "[26.139412, -80.133591],\n",
    "[29.652805, -95.267243],\n",
    "[38.944555, -77.455266],\n",
    "[29.980498, -95.339657],\n",
    "[33.682202, -78.927894],\n",
    "[44.659709, -73.467220],\n",
    "[38.751826, -90.3708],\n",
    "[40.277031, -74.818049],\n",
    "[29.9586, -81.3389]]\n",
    "    "
   ]
  },
  {
   "cell_type": "code",
   "execution_count": 7,
   "id": "c3568514",
   "metadata": {
    "execution": {
     "iopub.execute_input": "2021-12-10T10:38:29.666683Z",
     "iopub.status.busy": "2021-12-10T10:38:29.665962Z",
     "iopub.status.idle": "2021-12-10T10:38:29.669076Z",
     "shell.execute_reply": "2021-12-10T10:38:29.668572Z",
     "shell.execute_reply.started": "2021-12-06T15:03:58.49807Z"
    },
    "papermill": {
     "duration": 0.033835,
     "end_time": "2021-12-10T10:38:29.669219",
     "exception": false,
     "start_time": "2021-12-10T10:38:29.635384",
     "status": "completed"
    },
    "tags": []
   },
   "outputs": [],
   "source": [
    "#!tar -czvf ./new_model.tar.gz ./"
   ]
  },
  {
   "cell_type": "markdown",
   "id": "c0394f36",
   "metadata": {
    "papermill": {
     "duration": 0.026385,
     "end_time": "2021-12-10T10:38:29.721846",
     "exception": false,
     "start_time": "2021-12-10T10:38:29.695461",
     "status": "completed"
    },
    "tags": []
   },
   "source": [
    "def build_model(list_of_params, input_shape):\n",
    "    model = Sequential()\n",
    "    n_param = len(list_of_param)\n",
    "    for i, param in enumerate(list_of_params):\n",
    "        if i == 0:\n",
    "            model.add(Dense(param, input_shape=input_shape, kernel_initializer='normal', activation='relu'))\n",
    "        elif i == n_param - 1:\n",
    "            model.add(Dense(1, kernel_initializer='normal', activation = 'linear'))\n",
    "        else:\n",
    "            model.add(Dense(param, kernel_initializer='normal', activation = 'relu'))\n",
    "            \n",
    "    model.compile(loss='mean_squared_error', optimizer=keras.optimizers.Adadelta())    \n",
    "            \n",
    "    return model"
   ]
  },
  {
   "cell_type": "markdown",
   "id": "996eec06",
   "metadata": {
    "execution": {
     "iopub.execute_input": "2021-12-08T11:58:06.195413Z",
     "iopub.status.busy": "2021-12-08T11:58:06.194813Z",
     "iopub.status.idle": "2021-12-08T11:58:06.739055Z",
     "shell.execute_reply": "2021-12-08T11:58:06.738107Z",
     "shell.execute_reply.started": "2021-12-08T11:58:06.195365Z"
    },
    "papermill": {
     "duration": 0.026174,
     "end_time": "2021-12-10T10:38:29.775084",
     "exception": false,
     "start_time": "2021-12-10T10:38:29.748910",
     "status": "completed"
    },
    "tags": []
   },
   "source": [
    "from scipy.stats import zscore\n",
    "from bayes_opt import BayesianOptimization\n",
    "import keras_tuner as kt"
   ]
  },
  {
   "cell_type": "markdown",
   "id": "14d08ec4",
   "metadata": {
    "execution": {
     "iopub.execute_input": "2021-12-08T15:45:03.600842Z",
     "iopub.status.busy": "2021-12-08T15:45:03.600186Z",
     "iopub.status.idle": "2021-12-08T15:45:13.850771Z",
     "shell.execute_reply": "2021-12-08T15:45:13.849962Z",
     "shell.execute_reply.started": "2021-12-08T15:45:03.600798Z"
    },
    "papermill": {
     "duration": 0.025423,
     "end_time": "2021-12-10T10:38:29.826484",
     "exception": false,
     "start_time": "2021-12-10T10:38:29.801061",
     "status": "completed"
    },
    "tags": []
   },
   "source": [
    "train = pd.read_csv('../input/aml-project/AML_data/flights_training.csv')\n",
    "test = pd.read_csv('../input/aml-project/AML_data/flights_testing.csv')\n",
    "val = pd.read_csv('../input/aml-project/AML_data/flights_validation.csv')"
   ]
  },
  {
   "cell_type": "code",
   "execution_count": 8,
   "id": "33a77195",
   "metadata": {
    "execution": {
     "iopub.execute_input": "2021-12-10T10:38:29.890693Z",
     "iopub.status.busy": "2021-12-10T10:38:29.889996Z",
     "iopub.status.idle": "2021-12-10T10:38:35.521281Z",
     "shell.execute_reply": "2021-12-10T10:38:35.520099Z",
     "shell.execute_reply.started": "2021-12-10T10:10:20.208576Z"
    },
    "papermill": {
     "duration": 5.669498,
     "end_time": "2021-12-10T10:38:35.521497",
     "exception": false,
     "start_time": "2021-12-10T10:38:29.851999",
     "status": "completed"
    },
    "tags": []
   },
   "outputs": [
    {
     "name": "stdout",
     "output_type": "stream",
     "text": [
      "['SCHEDULED_DEPARTURE', 'DEPARTURE_TIME', 'TAXI_OUT', 'WHEELS_OFF', 'SCHEDULED_TIME', 'DISTANCE', 'SCHEDULED_ARRIVAL', 'LATITUDE_origin', 'LONGITUDE_origin', 'LATITUDE_arrival', 'LONGITUDE_arrival'] ['DAY', 'DAY_OF_WEEK', 'AIRLINE']\n",
      "['SCHEDULED_DEPARTURE', 'DEPARTURE_TIME', 'TAXI_OUT', 'WHEELS_OFF', 'SCHEDULED_TIME', 'DISTANCE', 'SCHEDULED_ARRIVAL', 'LONGITUDE_arrival', 'DAY_1', 'DAY_2', 'DAY_3', 'DAY_4', 'DAY_5', 'DAY_6', 'DAY_7', 'DAY_8', 'DAY_9', 'DAY_10', 'DAY_11', 'DAY_12', 'DAY_13', 'DAY_14', 'DAY_15', 'DAY_16', 'DAY_17', 'DAY_18', 'DAY_19', 'DAY_20', 'DAY_21', 'DAY_22', 'DAY_23', 'DAY_24', 'DAY_25', 'DAY_26', 'DAY_27', 'DAY_28', 'DAY_29', 'DAY_30', 'DAY_31', 'DAY_OF_WEEK_1', 'DAY_OF_WEEK_2', 'DAY_OF_WEEK_3', 'DAY_OF_WEEK_4', 'DAY_OF_WEEK_5', 'DAY_OF_WEEK_6', 'DAY_OF_WEEK_7', 'AIRLINE_AA', 'AIRLINE_AS', 'AIRLINE_B6', 'AIRLINE_DL', 'AIRLINE_EV', 'AIRLINE_F9', 'AIRLINE_HA', 'AIRLINE_MQ', 'AIRLINE_NK', 'AIRLINE_OO', 'AIRLINE_UA', 'AIRLINE_US', 'AIRLINE_VX', 'AIRLINE_WN']\n"
     ]
    }
   ],
   "source": [
    "remove_outliers = False\n",
    "\n",
    "train = train.dropna()\n",
    "val = val.dropna()\n",
    "test= test.dropna()\n",
    "\n",
    "cols = train.columns\n",
    "cont_cols = list(cols[11:18]) + list(cols[19:])\n",
    "cat_cols = list(cols[4:7])\n",
    "print(cont_cols, cat_cols)\n",
    "\n",
    "s_scaler2 = preprocessing.StandardScaler()\n",
    "random_list = s_scaler2.fit_transform(train['ARRIVAL_DELAY'].values.reshape((-1,1)))\n",
    "\n",
    "cont_cols_del = cont_cols + ['ARRIVAL_DELAY']\n",
    "\n",
    "s_scaler = preprocessing.StandardScaler()\n",
    "train[cont_cols_del] = s_scaler.fit_transform(train[cont_cols_del])\n",
    "val[cont_cols_del] = s_scaler.fit_transform(val[cont_cols_del])\n",
    "test[cont_cols] = s_scaler.fit_transform(test[cont_cols])\n",
    "train = pd.get_dummies(train, columns = cat_cols)\n",
    "val = pd.get_dummies(val, columns = cat_cols)\n",
    "test = pd.get_dummies(test, columns = cat_cols)\n",
    "\n",
    "new_vars = list(train.columns[8:15]) + list(train.columns[19:])\n",
    "print(new_vars)\n",
    "input_length = len(new_vars)\n",
    "\n",
    "if remove_outliers:\n",
    "            z_scores = zscore(train['ARRIVAL_DELAY'])\n",
    "            abs_z_scores = np.abs(z_scores)\n",
    "            filtered_entries = (abs_z_scores < 3)\n",
    "            train = train[filtered_entries]\n",
    "            \n",
    "input_shape = (input_length, )"
   ]
  },
  {
   "cell_type": "code",
   "execution_count": 9,
   "id": "13c86ae4",
   "metadata": {
    "execution": {
     "iopub.execute_input": "2021-12-10T10:38:35.585123Z",
     "iopub.status.busy": "2021-12-10T10:38:35.584281Z",
     "iopub.status.idle": "2021-12-10T10:38:35.755025Z",
     "shell.execute_reply": "2021-12-10T10:38:35.755580Z"
    },
    "papermill": {
     "duration": 0.20619,
     "end_time": "2021-12-10T10:38:35.755779",
     "exception": false,
     "start_time": "2021-12-10T10:38:35.549589",
     "status": "completed"
    },
    "tags": []
   },
   "outputs": [
    {
     "name": "stderr",
     "output_type": "stream",
     "text": [
      "\n",
      "User settings:\n",
      "\n",
      "   KMP_AFFINITY=granularity=fine,verbose,compact,1,0\n",
      "   KMP_BLOCKTIME=0\n",
      "   KMP_DUPLICATE_LIB_OK=True\n",
      "   KMP_INIT_AT_FORK=FALSE\n",
      "   KMP_SETTINGS=1\n",
      "   KMP_WARNINGS=0\n",
      "\n",
      "Effective settings:\n",
      "\n",
      "   KMP_ABORT_DELAY=0\n",
      "   KMP_ADAPTIVE_LOCK_PROPS='1,1024'\n",
      "   KMP_ALIGN_ALLOC=64\n",
      "   KMP_ALL_THREADPRIVATE=128\n",
      "   KMP_ATOMIC_MODE=2\n",
      "   KMP_BLOCKTIME=0\n",
      "   KMP_CPUINFO_FILE: value is not defined\n",
      "   KMP_DETERMINISTIC_REDUCTION=false\n",
      "   KMP_DEVICE_THREAD_LIMIT=2147483647\n",
      "   KMP_DISP_NUM_BUFFERS=7\n",
      "   KMP_DUPLICATE_LIB_OK=true\n",
      "   KMP_ENABLE_TASK_THROTTLING=true\n",
      "   KMP_FORCE_REDUCTION: value is not defined\n",
      "   KMP_FOREIGN_THREADS_THREADPRIVATE=true\n",
      "   KMP_FORKJOIN_BARRIER='2,2'\n",
      "   KMP_FORKJOIN_BARRIER_PATTERN='hyper,hyper'\n",
      "   KMP_GTID_MODE=3\n",
      "   KMP_HANDLE_SIGNALS=false\n",
      "   KMP_HOT_TEAMS_MAX_LEVEL=1\n",
      "   KMP_HOT_TEAMS_MODE=0\n",
      "   KMP_INIT_AT_FORK=true\n",
      "   KMP_LIBRARY=throughput\n",
      "   KMP_LOCK_KIND=queuing\n",
      "   KMP_MALLOC_POOL_INCR=1M\n",
      "   KMP_NUM_LOCKS_IN_BLOCK=1\n",
      "   KMP_PLAIN_BARRIER='2,2'\n",
      "   KMP_PLAIN_BARRIER_PATTERN='hyper,hyper'\n",
      "   KMP_REDUCTION_BARRIER='1,1'\n",
      "   KMP_REDUCTION_BARRIER_PATTERN='hyper,hyper'\n",
      "   KMP_SCHEDULE='static,balanced;guided,iterative'\n",
      "   KMP_SETTINGS=true\n",
      "   KMP_SPIN_BACKOFF_PARAMS='4096,100'\n",
      "   KMP_STACKOFFSET=64\n",
      "   KMP_STACKPAD=0\n",
      "   KMP_STACKSIZE=8M\n",
      "   KMP_STORAGE_MAP=false\n",
      "   KMP_TASKING=2\n",
      "   KMP_TASKLOOP_MIN_TASKS=0\n",
      "   KMP_TASK_STEALING_CONSTRAINT=1\n",
      "   KMP_TEAMS_THREAD_LIMIT=4\n",
      "   KMP_TOPOLOGY_METHOD=all\n",
      "   KMP_USE_YIELD=1\n",
      "   KMP_VERSION=false\n",
      "   KMP_WARNINGS=false\n",
      "   OMP_AFFINITY_FORMAT='OMP: pid %P tid %i thread %n bound to OS proc set {%A}'\n",
      "   OMP_ALLOCATOR=omp_default_mem_alloc\n",
      "   OMP_CANCELLATION=false\n",
      "   OMP_DEFAULT_DEVICE=0\n",
      "   OMP_DISPLAY_AFFINITY=false\n",
      "   OMP_DISPLAY_ENV=false\n",
      "   OMP_DYNAMIC=false\n",
      "   OMP_MAX_ACTIVE_LEVELS=1\n",
      "   OMP_MAX_TASK_PRIORITY=0\n",
      "   OMP_NESTED: deprecated; max-active-levels-var=1\n",
      "   OMP_NUM_THREADS: value is not defined\n",
      "   OMP_PLACES: value is not defined\n",
      "   OMP_PROC_BIND='intel'\n",
      "   OMP_SCHEDULE='static'\n",
      "   OMP_STACKSIZE=8M\n",
      "   OMP_TARGET_OFFLOAD=DEFAULT\n",
      "   OMP_THREAD_LIMIT=2147483647\n",
      "   OMP_WAIT_POLICY=PASSIVE\n",
      "   KMP_AFFINITY='verbose,warnings,respect,granularity=fine,compact,1,0'\n",
      "\n",
      "2021-12-10 10:38:35.621131: I tensorflow/core/common_runtime/process_util.cc:146] Creating new thread pool with default inter op setting: 2. Tune using inter_op_parallelism_threads for best performance.\n"
     ]
    }
   ],
   "source": [
    "model = Sequential()\n",
    "model.add(Dense(600, input_shape=input_shape, kernel_initializer='normal', activation='relu'))\n",
    "model.add(Dense(450, kernel_initializer='normal', activation='relu'))\n",
    "model.add(Dense(300, kernel_initializer='normal', activation='relu'))\n",
    "model.add(Dense(200, kernel_initializer='normal', activation='relu'))\n",
    "model.add(Dense(100, kernel_initializer='normal', activation='relu'))\n",
    "model.add(Dense(50, kernel_initializer='normal', activation='relu'))\n",
    "model.add(Dense(1, kernel_initializer='normal', activation = 'linear'))\n",
    "# Compile model\n",
    "model.compile(loss='mean_squared_error', optimizer=keras.optimizers.Adadelta())"
   ]
  },
  {
   "cell_type": "code",
   "execution_count": 10,
   "id": "df88b46a",
   "metadata": {
    "execution": {
     "iopub.execute_input": "2021-12-10T10:38:35.814976Z",
     "iopub.status.busy": "2021-12-10T10:38:35.814273Z",
     "iopub.status.idle": "2021-12-10T10:38:37.158776Z",
     "shell.execute_reply": "2021-12-10T10:38:37.159232Z",
     "shell.execute_reply.started": "2021-12-10T10:04:00.40405Z"
    },
    "papermill": {
     "duration": 1.375654,
     "end_time": "2021-12-10T10:38:37.159420",
     "exception": false,
     "start_time": "2021-12-10T10:38:35.783766",
     "status": "completed"
    },
    "tags": []
   },
   "outputs": [
    {
     "data": {
      "text/html": [
       "<div>\n",
       "<style scoped>\n",
       "    .dataframe tbody tr th:only-of-type {\n",
       "        vertical-align: middle;\n",
       "    }\n",
       "\n",
       "    .dataframe tbody tr th {\n",
       "        vertical-align: top;\n",
       "    }\n",
       "\n",
       "    .dataframe thead th {\n",
       "        text-align: right;\n",
       "    }\n",
       "</style>\n",
       "<table border=\"1\" class=\"dataframe\">\n",
       "  <thead>\n",
       "    <tr style=\"text-align: right;\">\n",
       "      <th></th>\n",
       "      <th>id</th>\n",
       "      <th>YEAR</th>\n",
       "      <th>MONTH</th>\n",
       "      <th>DAY</th>\n",
       "      <th>DAY_OF_WEEK</th>\n",
       "      <th>AIRLINE</th>\n",
       "      <th>FLIGHT_NUMBER</th>\n",
       "      <th>TAIL_NUMBER</th>\n",
       "      <th>ORIGIN_AIRPORT</th>\n",
       "      <th>DESTINATION_AIRPORT</th>\n",
       "      <th>SCHEDULED_DEPARTURE</th>\n",
       "      <th>DEPARTURE_TIME</th>\n",
       "      <th>TAXI_OUT</th>\n",
       "      <th>WHEELS_OFF</th>\n",
       "      <th>SCHEDULED_TIME</th>\n",
       "      <th>DISTANCE</th>\n",
       "      <th>SCHEDULED_ARRIVAL</th>\n",
       "    </tr>\n",
       "  </thead>\n",
       "  <tbody>\n",
       "    <tr>\n",
       "      <th>0</th>\n",
       "      <td>0</td>\n",
       "      <td>2015</td>\n",
       "      <td>7</td>\n",
       "      <td>1</td>\n",
       "      <td>3</td>\n",
       "      <td>NK</td>\n",
       "      <td>298</td>\n",
       "      <td>N624NK</td>\n",
       "      <td>LAS</td>\n",
       "      <td>IAH</td>\n",
       "      <td>3</td>\n",
       "      <td>41.0</td>\n",
       "      <td>11.0</td>\n",
       "      <td>52.0</td>\n",
       "      <td>177.0</td>\n",
       "      <td>1222</td>\n",
       "      <td>500</td>\n",
       "    </tr>\n",
       "    <tr>\n",
       "      <th>1</th>\n",
       "      <td>1</td>\n",
       "      <td>2015</td>\n",
       "      <td>7</td>\n",
       "      <td>1</td>\n",
       "      <td>3</td>\n",
       "      <td>AA</td>\n",
       "      <td>1965</td>\n",
       "      <td>N507AY</td>\n",
       "      <td>SFO</td>\n",
       "      <td>CLT</td>\n",
       "      <td>5</td>\n",
       "      <td>2400.0</td>\n",
       "      <td>21.0</td>\n",
       "      <td>21.0</td>\n",
       "      <td>303.0</td>\n",
       "      <td>2296</td>\n",
       "      <td>808</td>\n",
       "    </tr>\n",
       "    <tr>\n",
       "      <th>2</th>\n",
       "      <td>2</td>\n",
       "      <td>2015</td>\n",
       "      <td>7</td>\n",
       "      <td>1</td>\n",
       "      <td>3</td>\n",
       "      <td>DL</td>\n",
       "      <td>2020</td>\n",
       "      <td>N3759</td>\n",
       "      <td>LAX</td>\n",
       "      <td>MEM</td>\n",
       "      <td>5</td>\n",
       "      <td>2400.0</td>\n",
       "      <td>36.0</td>\n",
       "      <td>36.0</td>\n",
       "      <td>223.0</td>\n",
       "      <td>1619</td>\n",
       "      <td>548</td>\n",
       "    </tr>\n",
       "    <tr>\n",
       "      <th>3</th>\n",
       "      <td>3</td>\n",
       "      <td>2015</td>\n",
       "      <td>7</td>\n",
       "      <td>1</td>\n",
       "      <td>3</td>\n",
       "      <td>NK</td>\n",
       "      <td>612</td>\n",
       "      <td>N629NK</td>\n",
       "      <td>LAS</td>\n",
       "      <td>MSP</td>\n",
       "      <td>5</td>\n",
       "      <td>53.0</td>\n",
       "      <td>14.0</td>\n",
       "      <td>107.0</td>\n",
       "      <td>178.0</td>\n",
       "      <td>1299</td>\n",
       "      <td>503</td>\n",
       "    </tr>\n",
       "    <tr>\n",
       "      <th>4</th>\n",
       "      <td>4</td>\n",
       "      <td>2015</td>\n",
       "      <td>7</td>\n",
       "      <td>1</td>\n",
       "      <td>3</td>\n",
       "      <td>UA</td>\n",
       "      <td>1044</td>\n",
       "      <td>N39418</td>\n",
       "      <td>ANC</td>\n",
       "      <td>ORD</td>\n",
       "      <td>8</td>\n",
       "      <td>17.0</td>\n",
       "      <td>20.0</td>\n",
       "      <td>37.0</td>\n",
       "      <td>364.0</td>\n",
       "      <td>2846</td>\n",
       "      <td>912</td>\n",
       "    </tr>\n",
       "  </tbody>\n",
       "</table>\n",
       "</div>"
      ],
      "text/plain": [
       "   id  YEAR  MONTH  DAY  DAY_OF_WEEK AIRLINE  FLIGHT_NUMBER TAIL_NUMBER  \\\n",
       "0   0  2015      7    1            3      NK            298      N624NK   \n",
       "1   1  2015      7    1            3      AA           1965      N507AY   \n",
       "2   2  2015      7    1            3      DL           2020       N3759   \n",
       "3   3  2015      7    1            3      NK            612      N629NK   \n",
       "4   4  2015      7    1            3      UA           1044      N39418   \n",
       "\n",
       "  ORIGIN_AIRPORT DESTINATION_AIRPORT  SCHEDULED_DEPARTURE  DEPARTURE_TIME  \\\n",
       "0            LAS                 IAH                    3            41.0   \n",
       "1            SFO                 CLT                    5          2400.0   \n",
       "2            LAX                 MEM                    5          2400.0   \n",
       "3            LAS                 MSP                    5            53.0   \n",
       "4            ANC                 ORD                    8            17.0   \n",
       "\n",
       "   TAXI_OUT  WHEELS_OFF  SCHEDULED_TIME  DISTANCE  SCHEDULED_ARRIVAL  \n",
       "0      11.0        52.0           177.0      1222                500  \n",
       "1      21.0        21.0           303.0      2296                808  \n",
       "2      36.0        36.0           223.0      1619                548  \n",
       "3      14.0       107.0           178.0      1299                503  \n",
       "4      20.0        37.0           364.0      2846                912  "
      ]
     },
     "execution_count": 10,
     "metadata": {},
     "output_type": "execute_result"
    }
   ],
   "source": [
    "submit_sample = pd.read_csv('../input/flight-delays-prediction-challeng2021/flights_test.csv')\n",
    "submit_sample.head()"
   ]
  },
  {
   "cell_type": "code",
   "execution_count": 11,
   "id": "28666f11",
   "metadata": {
    "execution": {
     "iopub.execute_input": "2021-12-10T10:38:37.225203Z",
     "iopub.status.busy": "2021-12-10T10:38:37.218719Z",
     "iopub.status.idle": "2021-12-10T10:38:39.572760Z",
     "shell.execute_reply": "2021-12-10T10:38:39.573269Z",
     "shell.execute_reply.started": "2021-12-10T09:25:10.299938Z"
    },
    "papermill": {
     "duration": 2.385683,
     "end_time": "2021-12-10T10:38:39.573481",
     "exception": false,
     "start_time": "2021-12-10T10:38:37.187798",
     "status": "completed"
    },
    "tags": []
   },
   "outputs": [
    {
     "name": "stdout",
     "output_type": "stream",
     "text": [
      "514384\n",
      "514384\n"
     ]
    },
    {
     "data": {
      "text/html": [
       "<div>\n",
       "<style scoped>\n",
       "    .dataframe tbody tr th:only-of-type {\n",
       "        vertical-align: middle;\n",
       "    }\n",
       "\n",
       "    .dataframe tbody tr th {\n",
       "        vertical-align: top;\n",
       "    }\n",
       "\n",
       "    .dataframe thead th {\n",
       "        text-align: right;\n",
       "    }\n",
       "</style>\n",
       "<table border=\"1\" class=\"dataframe\">\n",
       "  <thead>\n",
       "    <tr style=\"text-align: right;\">\n",
       "      <th></th>\n",
       "      <th>id</th>\n",
       "      <th>YEAR</th>\n",
       "      <th>MONTH</th>\n",
       "      <th>DAY</th>\n",
       "      <th>DAY_OF_WEEK</th>\n",
       "      <th>AIRLINE</th>\n",
       "      <th>FLIGHT_NUMBER</th>\n",
       "      <th>TAIL_NUMBER</th>\n",
       "      <th>ORIGIN_AIRPORT</th>\n",
       "      <th>DESTINATION_AIRPORT</th>\n",
       "      <th>SCHEDULED_DEPARTURE</th>\n",
       "      <th>DEPARTURE_TIME</th>\n",
       "      <th>TAXI_OUT</th>\n",
       "      <th>WHEELS_OFF</th>\n",
       "      <th>SCHEDULED_TIME</th>\n",
       "      <th>DISTANCE</th>\n",
       "      <th>SCHEDULED_ARRIVAL</th>\n",
       "    </tr>\n",
       "  </thead>\n",
       "  <tbody>\n",
       "    <tr>\n",
       "      <th>0</th>\n",
       "      <td>0</td>\n",
       "      <td>2015</td>\n",
       "      <td>7</td>\n",
       "      <td>1</td>\n",
       "      <td>3</td>\n",
       "      <td>NK</td>\n",
       "      <td>298</td>\n",
       "      <td>N624NK</td>\n",
       "      <td>LAS</td>\n",
       "      <td>IAH</td>\n",
       "      <td>3</td>\n",
       "      <td>41.0</td>\n",
       "      <td>11.0</td>\n",
       "      <td>52.0</td>\n",
       "      <td>177.0</td>\n",
       "      <td>1222</td>\n",
       "      <td>500</td>\n",
       "    </tr>\n",
       "    <tr>\n",
       "      <th>1</th>\n",
       "      <td>1</td>\n",
       "      <td>2015</td>\n",
       "      <td>7</td>\n",
       "      <td>1</td>\n",
       "      <td>3</td>\n",
       "      <td>AA</td>\n",
       "      <td>1965</td>\n",
       "      <td>N507AY</td>\n",
       "      <td>SFO</td>\n",
       "      <td>CLT</td>\n",
       "      <td>5</td>\n",
       "      <td>2400.0</td>\n",
       "      <td>21.0</td>\n",
       "      <td>21.0</td>\n",
       "      <td>303.0</td>\n",
       "      <td>2296</td>\n",
       "      <td>808</td>\n",
       "    </tr>\n",
       "    <tr>\n",
       "      <th>2</th>\n",
       "      <td>2</td>\n",
       "      <td>2015</td>\n",
       "      <td>7</td>\n",
       "      <td>1</td>\n",
       "      <td>3</td>\n",
       "      <td>DL</td>\n",
       "      <td>2020</td>\n",
       "      <td>N3759</td>\n",
       "      <td>LAX</td>\n",
       "      <td>MEM</td>\n",
       "      <td>5</td>\n",
       "      <td>2400.0</td>\n",
       "      <td>36.0</td>\n",
       "      <td>36.0</td>\n",
       "      <td>223.0</td>\n",
       "      <td>1619</td>\n",
       "      <td>548</td>\n",
       "    </tr>\n",
       "    <tr>\n",
       "      <th>3</th>\n",
       "      <td>3</td>\n",
       "      <td>2015</td>\n",
       "      <td>7</td>\n",
       "      <td>1</td>\n",
       "      <td>3</td>\n",
       "      <td>NK</td>\n",
       "      <td>612</td>\n",
       "      <td>N629NK</td>\n",
       "      <td>LAS</td>\n",
       "      <td>MSP</td>\n",
       "      <td>5</td>\n",
       "      <td>53.0</td>\n",
       "      <td>14.0</td>\n",
       "      <td>107.0</td>\n",
       "      <td>178.0</td>\n",
       "      <td>1299</td>\n",
       "      <td>503</td>\n",
       "    </tr>\n",
       "    <tr>\n",
       "      <th>4</th>\n",
       "      <td>4</td>\n",
       "      <td>2015</td>\n",
       "      <td>7</td>\n",
       "      <td>1</td>\n",
       "      <td>3</td>\n",
       "      <td>UA</td>\n",
       "      <td>1044</td>\n",
       "      <td>N39418</td>\n",
       "      <td>ANC</td>\n",
       "      <td>ORD</td>\n",
       "      <td>8</td>\n",
       "      <td>17.0</td>\n",
       "      <td>20.0</td>\n",
       "      <td>37.0</td>\n",
       "      <td>364.0</td>\n",
       "      <td>2846</td>\n",
       "      <td>912</td>\n",
       "    </tr>\n",
       "  </tbody>\n",
       "</table>\n",
       "</div>"
      ],
      "text/plain": [
       "   id  YEAR  MONTH  DAY  DAY_OF_WEEK AIRLINE  FLIGHT_NUMBER TAIL_NUMBER  \\\n",
       "0   0  2015      7    1            3      NK            298      N624NK   \n",
       "1   1  2015      7    1            3      AA           1965      N507AY   \n",
       "2   2  2015      7    1            3      DL           2020       N3759   \n",
       "3   3  2015      7    1            3      NK            612      N629NK   \n",
       "4   4  2015      7    1            3      UA           1044      N39418   \n",
       "\n",
       "  ORIGIN_AIRPORT DESTINATION_AIRPORT  SCHEDULED_DEPARTURE  DEPARTURE_TIME  \\\n",
       "0            LAS                 IAH                    3            41.0   \n",
       "1            SFO                 CLT                    5          2400.0   \n",
       "2            LAX                 MEM                    5          2400.0   \n",
       "3            LAS                 MSP                    5            53.0   \n",
       "4            ANC                 ORD                    8            17.0   \n",
       "\n",
       "   TAXI_OUT  WHEELS_OFF  SCHEDULED_TIME  DISTANCE  SCHEDULED_ARRIVAL  \n",
       "0      11.0        52.0           177.0      1222                500  \n",
       "1      21.0        21.0           303.0      2296                808  \n",
       "2      36.0        36.0           223.0      1619                548  \n",
       "3      14.0       107.0           178.0      1299                503  \n",
       "4      20.0        37.0           364.0      2846                912  "
      ]
     },
     "execution_count": 11,
     "metadata": {},
     "output_type": "execute_result"
    }
   ],
   "source": [
    "submit_sample = pd.read_csv('../input/flight-delays-prediction-challeng2021/flights_test.csv')\n",
    "print(len(submit_sample))\n",
    "airports_origin = airp[['IATA_CODE','LATITUDE','LONGITUDE']].rename(columns = {'IATA_CODE' : 'ORIGIN_AIRPORT'})\n",
    "airports_arrive = airp[['IATA_CODE','LATITUDE','LONGITUDE']].rename(columns = {'IATA_CODE' : 'DESTINATION_AIRPORT'})\n",
    "submit_sample1 = submit_sample.merge(airports_origin, on = 'ORIGIN_AIRPORT').rename(columns = {'LATITUDE' : 'LATITUDE_origin', 'LONGITUDE' : 'LONGITUDE_origin'})\n",
    "submit_sample2 = submit_sample1.merge(airports_arrive, on = 'DESTINATION_AIRPORT').rename(columns = {'LATITUDE' : 'LATITUDE_arrival', 'LONGITUDE' : 'LONGITUDE_arrival'})\n",
    "print(len(submit_sample2))\n",
    "s_scaler = preprocessing.StandardScaler()\n",
    "submit_sample2[cont_cols] = s_scaler.fit_transform(submit_sample2[cont_cols])\n",
    "submit_sample2 = pd.get_dummies(submit_sample2, columns = cat_cols)\n",
    "submit_sample.head()"
   ]
  },
  {
   "cell_type": "code",
   "execution_count": 12,
   "id": "5aa1eeda",
   "metadata": {
    "execution": {
     "iopub.execute_input": "2021-12-10T10:38:39.636788Z",
     "iopub.status.busy": "2021-12-10T10:38:39.635214Z",
     "iopub.status.idle": "2021-12-10T10:38:40.422674Z",
     "shell.execute_reply": "2021-12-10T10:38:40.422071Z",
     "shell.execute_reply.started": "2021-12-10T10:10:26.249717Z"
    },
    "papermill": {
     "duration": 0.819075,
     "end_time": "2021-12-10T10:38:40.422838",
     "exception": false,
     "start_time": "2021-12-10T10:38:39.603763",
     "status": "completed"
    },
    "tags": []
   },
   "outputs": [],
   "source": [
    "model = keras.models.load_model('../input/aml-model/garbage')"
   ]
  },
  {
   "cell_type": "code",
   "execution_count": 13,
   "id": "71d43ebe",
   "metadata": {
    "execution": {
     "iopub.execute_input": "2021-12-10T10:38:40.490461Z",
     "iopub.status.busy": "2021-12-10T10:38:40.489564Z",
     "iopub.status.idle": "2021-12-10T10:38:40.492255Z",
     "shell.execute_reply": "2021-12-10T10:38:40.491763Z",
     "shell.execute_reply.started": "2021-12-10T09:31:29.772767Z"
    },
    "papermill": {
     "duration": 0.040262,
     "end_time": "2021-12-10T10:38:40.492417",
     "exception": false,
     "start_time": "2021-12-10T10:38:40.452155",
     "status": "completed"
    },
    "tags": []
   },
   "outputs": [],
   "source": [
    "submit_sample2['AIRLINE_US'] = 0"
   ]
  },
  {
   "cell_type": "code",
   "execution_count": 14,
   "id": "ad8698f4",
   "metadata": {
    "execution": {
     "iopub.execute_input": "2021-12-10T10:38:40.559838Z",
     "iopub.status.busy": "2021-12-10T10:38:40.558888Z",
     "iopub.status.idle": "2021-12-10T10:39:19.548996Z",
     "shell.execute_reply": "2021-12-10T10:39:19.548216Z",
     "shell.execute_reply.started": "2021-12-10T09:33:04.991257Z"
    },
    "papermill": {
     "duration": 39.025664,
     "end_time": "2021-12-10T10:39:19.549157",
     "exception": false,
     "start_time": "2021-12-10T10:38:40.523493",
     "status": "completed"
    },
    "tags": []
   },
   "outputs": [
    {
     "name": "stderr",
     "output_type": "stream",
     "text": [
      "2021-12-10 10:38:41.105146: I tensorflow/compiler/mlir/mlir_graph_optimization_pass.cc:185] None of the MLIR Optimization Passes are enabled (registered 2)\n"
     ]
    }
   ],
   "source": [
    "test_preds = model.predict(submit_sample2[new_vars])\n",
    "#test_true = submit_sample1['ARRIVAL_DELAY']\n",
    "test_inverse = s_scaler2.inverse_transform(test_preds)\n",
    "#r2_score(test_true, test_inverse)"
   ]
  },
  {
   "cell_type": "markdown",
   "id": "b5e6d849",
   "metadata": {
    "execution": {
     "iopub.execute_input": "2021-12-10T10:10:27.101559Z",
     "iopub.status.busy": "2021-12-10T10:10:27.101306Z",
     "iopub.status.idle": "2021-12-10T10:10:46.462768Z",
     "shell.execute_reply": "2021-12-10T10:10:46.461748Z",
     "shell.execute_reply.started": "2021-12-10T10:10:27.101512Z"
    },
    "papermill": {
     "duration": 0.030008,
     "end_time": "2021-12-10T10:39:19.608843",
     "exception": false,
     "start_time": "2021-12-10T10:39:19.578835",
     "status": "completed"
    },
    "tags": []
   },
   "source": [
    "test_preds = model.predict(test[new_vars])\n",
    "test_true = test['ARRIVAL_DELAY']\n",
    "test_inverse = s_scaler2.inverse_transform(test_preds)\n",
    "r2_score(test_true, test_inverse)"
   ]
  },
  {
   "cell_type": "markdown",
   "id": "d4c72280",
   "metadata": {
    "execution": {
     "iopub.execute_input": "2021-12-10T10:11:04.907837Z",
     "iopub.status.busy": "2021-12-10T10:11:04.907518Z",
     "iopub.status.idle": "2021-12-10T10:11:04.916225Z",
     "shell.execute_reply": "2021-12-10T10:11:04.915601Z",
     "shell.execute_reply.started": "2021-12-10T10:11:04.907807Z"
    },
    "papermill": {
     "duration": 0.028932,
     "end_time": "2021-12-10T10:39:19.667379",
     "exception": false,
     "start_time": "2021-12-10T10:39:19.638447",
     "status": "completed"
    },
    "tags": []
   },
   "source": [
    "test_true[:5]"
   ]
  },
  {
   "cell_type": "code",
   "execution_count": 15,
   "id": "3f9a1616",
   "metadata": {
    "execution": {
     "iopub.execute_input": "2021-12-10T10:39:19.732424Z",
     "iopub.status.busy": "2021-12-10T10:39:19.731591Z",
     "iopub.status.idle": "2021-12-10T10:39:19.734582Z",
     "shell.execute_reply": "2021-12-10T10:39:19.735070Z",
     "shell.execute_reply.started": "2021-12-10T10:11:11.272613Z"
    },
    "papermill": {
     "duration": 0.038806,
     "end_time": "2021-12-10T10:39:19.735247",
     "exception": false,
     "start_time": "2021-12-10T10:39:19.696441",
     "status": "completed"
    },
    "tags": []
   },
   "outputs": [
    {
     "data": {
      "text/plain": [
       "array([[ 18.891657],\n",
       "       [ 28.896254],\n",
       "       [-14.063471],\n",
       "       [-12.282604],\n",
       "       [ -9.72913 ]], dtype=float32)"
      ]
     },
     "execution_count": 15,
     "metadata": {},
     "output_type": "execute_result"
    }
   ],
   "source": [
    "test_inverse[:5]"
   ]
  },
  {
   "cell_type": "markdown",
   "id": "5120a15e",
   "metadata": {
    "execution": {
     "iopub.execute_input": "2021-12-10T10:11:34.144372Z",
     "iopub.status.busy": "2021-12-10T10:11:34.143901Z",
     "iopub.status.idle": "2021-12-10T10:11:34.151143Z",
     "shell.execute_reply": "2021-12-10T10:11:34.150569Z",
     "shell.execute_reply.started": "2021-12-10T10:11:34.144339Z"
    },
    "papermill": {
     "duration": 0.029326,
     "end_time": "2021-12-10T10:39:19.794098",
     "exception": false,
     "start_time": "2021-12-10T10:39:19.764772",
     "status": "completed"
    },
    "tags": []
   },
   "source": [
    "from sklearn.metrics import mean_squared_error\n",
    "\n",
    "rms = mean_squared_error(test_true, test_inverse, squared=True)\n",
    "print(rms)"
   ]
  },
  {
   "cell_type": "code",
   "execution_count": 16,
   "id": "13951ba0",
   "metadata": {
    "execution": {
     "iopub.execute_input": "2021-12-10T10:39:19.856585Z",
     "iopub.status.busy": "2021-12-10T10:39:19.855854Z",
     "iopub.status.idle": "2021-12-10T10:39:20.032141Z",
     "shell.execute_reply": "2021-12-10T10:39:20.031643Z",
     "shell.execute_reply.started": "2021-12-10T09:34:45.481078Z"
    },
    "papermill": {
     "duration": 0.208717,
     "end_time": "2021-12-10T10:39:20.032281",
     "exception": false,
     "start_time": "2021-12-10T10:39:19.823564",
     "status": "completed"
    },
    "tags": []
   },
   "outputs": [
    {
     "data": {
      "text/html": [
       "<div>\n",
       "<style scoped>\n",
       "    .dataframe tbody tr th:only-of-type {\n",
       "        vertical-align: middle;\n",
       "    }\n",
       "\n",
       "    .dataframe tbody tr th {\n",
       "        vertical-align: top;\n",
       "    }\n",
       "\n",
       "    .dataframe thead th {\n",
       "        text-align: right;\n",
       "    }\n",
       "</style>\n",
       "<table border=\"1\" class=\"dataframe\">\n",
       "  <thead>\n",
       "    <tr style=\"text-align: right;\">\n",
       "      <th></th>\n",
       "      <th>id</th>\n",
       "      <th>ARRIVAL_DELAY</th>\n",
       "    </tr>\n",
       "  </thead>\n",
       "  <tbody>\n",
       "    <tr>\n",
       "      <th>0</th>\n",
       "      <td>0</td>\n",
       "      <td>0.0</td>\n",
       "    </tr>\n",
       "    <tr>\n",
       "      <th>1</th>\n",
       "      <td>1</td>\n",
       "      <td>0.0</td>\n",
       "    </tr>\n",
       "    <tr>\n",
       "      <th>2</th>\n",
       "      <td>2</td>\n",
       "      <td>0.0</td>\n",
       "    </tr>\n",
       "    <tr>\n",
       "      <th>3</th>\n",
       "      <td>3</td>\n",
       "      <td>0.0</td>\n",
       "    </tr>\n",
       "    <tr>\n",
       "      <th>4</th>\n",
       "      <td>4</td>\n",
       "      <td>0.0</td>\n",
       "    </tr>\n",
       "  </tbody>\n",
       "</table>\n",
       "</div>"
      ],
      "text/plain": [
       "   id  ARRIVAL_DELAY\n",
       "0   0            0.0\n",
       "1   1            0.0\n",
       "2   2            0.0\n",
       "3   3            0.0\n",
       "4   4            0.0"
      ]
     },
     "execution_count": 16,
     "metadata": {},
     "output_type": "execute_result"
    }
   ],
   "source": [
    "sss = pd.read_csv('../input/flight-delays-prediction-challeng2021/submit_sample.csv')\n",
    "sss.head()"
   ]
  },
  {
   "cell_type": "code",
   "execution_count": 17,
   "id": "42a05de9",
   "metadata": {
    "execution": {
     "iopub.execute_input": "2021-12-10T10:39:20.097545Z",
     "iopub.status.busy": "2021-12-10T10:39:20.096850Z",
     "iopub.status.idle": "2021-12-10T10:39:20.100693Z",
     "shell.execute_reply": "2021-12-10T10:39:20.101304Z",
     "shell.execute_reply.started": "2021-12-10T09:35:27.681977Z"
    },
    "papermill": {
     "duration": 0.038748,
     "end_time": "2021-12-10T10:39:20.101496",
     "exception": false,
     "start_time": "2021-12-10T10:39:20.062748",
     "status": "completed"
    },
    "tags": []
   },
   "outputs": [
    {
     "name": "stdout",
     "output_type": "stream",
     "text": [
      "514384\n"
     ]
    }
   ],
   "source": [
    "id_list = np.arange(len(test_inverse))\n",
    "print(len(id_list))"
   ]
  },
  {
   "cell_type": "code",
   "execution_count": 18,
   "id": "7a675bea",
   "metadata": {
    "execution": {
     "iopub.execute_input": "2021-12-10T10:39:20.166071Z",
     "iopub.status.busy": "2021-12-10T10:39:20.164853Z",
     "iopub.status.idle": "2021-12-10T10:39:20.170468Z",
     "shell.execute_reply": "2021-12-10T10:39:20.170959Z",
     "shell.execute_reply.started": "2021-12-10T09:36:30.90182Z"
    },
    "papermill": {
     "duration": 0.039253,
     "end_time": "2021-12-10T10:39:20.171137",
     "exception": false,
     "start_time": "2021-12-10T10:39:20.131884",
     "status": "completed"
    },
    "tags": []
   },
   "outputs": [
    {
     "data": {
      "text/plain": [
       "(514384,)"
      ]
     },
     "execution_count": 18,
     "metadata": {},
     "output_type": "execute_result"
    }
   ],
   "source": [
    "test_inverse.flatten().shape"
   ]
  },
  {
   "cell_type": "code",
   "execution_count": 19,
   "id": "f1ae88b1",
   "metadata": {
    "execution": {
     "iopub.execute_input": "2021-12-10T10:39:20.236787Z",
     "iopub.status.busy": "2021-12-10T10:39:20.235764Z",
     "iopub.status.idle": "2021-12-10T10:39:20.244641Z",
     "shell.execute_reply": "2021-12-10T10:39:20.245187Z",
     "shell.execute_reply.started": "2021-12-10T09:36:37.548647Z"
    },
    "papermill": {
     "duration": 0.043653,
     "end_time": "2021-12-10T10:39:20.245371",
     "exception": false,
     "start_time": "2021-12-10T10:39:20.201718",
     "status": "completed"
    },
    "tags": []
   },
   "outputs": [],
   "source": [
    "ss = pd.DataFrame({'id' : id_list,\n",
    "                  'ARRIVAL_DELAY' : test_inverse.flatten()})\n",
    "ss = ss.set_index('id')"
   ]
  },
  {
   "cell_type": "code",
   "execution_count": 20,
   "id": "94bbc5c4",
   "metadata": {
    "execution": {
     "iopub.execute_input": "2021-12-10T10:39:20.310091Z",
     "iopub.status.busy": "2021-12-10T10:39:20.309124Z",
     "iopub.status.idle": "2021-12-10T10:39:22.110200Z",
     "shell.execute_reply": "2021-12-10T10:39:22.109427Z",
     "shell.execute_reply.started": "2021-12-10T09:37:23.601984Z"
    },
    "papermill": {
     "duration": 1.834618,
     "end_time": "2021-12-10T10:39:22.110429",
     "exception": false,
     "start_time": "2021-12-10T10:39:20.275811",
     "status": "completed"
    },
    "tags": []
   },
   "outputs": [],
   "source": [
    "ss.to_csv('submission.csv')"
   ]
  },
  {
   "cell_type": "markdown",
   "id": "f8c46113",
   "metadata": {
    "execution": {
     "iopub.execute_input": "2021-12-08T15:45:18.173982Z",
     "iopub.status.busy": "2021-12-08T15:45:18.173513Z",
     "iopub.status.idle": "2021-12-08T15:45:18.182885Z",
     "shell.execute_reply": "2021-12-08T15:45:18.182018Z",
     "shell.execute_reply.started": "2021-12-08T15:45:18.173943Z"
    },
    "papermill": {
     "duration": 0.032267,
     "end_time": "2021-12-10T10:39:22.177406",
     "exception": false,
     "start_time": "2021-12-10T10:39:22.145139",
     "status": "completed"
    },
    "tags": []
   },
   "source": [
    "def model_builder(hp, input_shape = input_shape):\n",
    "    model = keras.Sequential()\n",
    "    model.add(tf.keras.layers.Flatten(input_shape=input_shape))\n",
    "    \n",
    "    for i in range(6):\n",
    "        model.add(tf.keras.layers.Dense(units=hp.Choice('units_' + str(i), \n",
    "                                                        values=[600,400,300,200,100,50,25][i:i+2]),\n",
    "                                        activation='relu'))\n",
    "\n",
    "    model.add(Dense(1, kernel_initializer='normal', activation = 'linear'))\n",
    "\n",
    "    # Tune the learning rate for the optimizer\n",
    "    # Choose an optimal value from 0.01, 0.001, or 0.0001\n",
    "    hp_learning_rate = hp.Choice('learning_rate', values=[1e-3, 1e-4])\n",
    "\n",
    "    model.compile(optimizer=keras.optimizers.Adadelta(learning_rate=hp_learning_rate),\n",
    "            loss='mean_squared_error',\n",
    "            metrics=[\n",
    "                    'MeanSquaredError'\n",
    "                    ],\n",
    "            steps_per_execution=8\n",
    "                 )\n",
    "    \n",
    "    return model"
   ]
  },
  {
   "cell_type": "markdown",
   "id": "665737f8",
   "metadata": {
    "execution": {
     "iopub.execute_input": "2021-12-08T15:45:18.185138Z",
     "iopub.status.busy": "2021-12-08T15:45:18.184871Z",
     "iopub.status.idle": "2021-12-08T15:45:20.763903Z",
     "shell.execute_reply": "2021-12-08T15:45:20.763082Z",
     "shell.execute_reply.started": "2021-12-08T15:45:18.185103Z"
    },
    "papermill": {
     "duration": 0.033818,
     "end_time": "2021-12-10T10:39:22.245797",
     "exception": false,
     "start_time": "2021-12-10T10:39:22.211979",
     "status": "completed"
    },
    "tags": []
   },
   "source": [
    "tuner = kt.Hyperband(model_builder,\n",
    "                     objective='val_mean_squared_error',\n",
    "                     max_epochs=100,\n",
    "                     factor=3,\n",
    "                     directory='my_dir',\n",
    "                     project_name='intro_to_kt')\n",
    "\n",
    "stop_early = tf.keras.callbacks.EarlyStopping(monitor='val_loss', patience=4)"
   ]
  },
  {
   "cell_type": "markdown",
   "id": "c3ddfe1e",
   "metadata": {
    "papermill": {
     "duration": 0.032301,
     "end_time": "2021-12-10T10:39:22.310294",
     "exception": false,
     "start_time": "2021-12-10T10:39:22.277993",
     "status": "completed"
    },
    "tags": []
   },
   "source": []
  },
  {
   "cell_type": "markdown",
   "id": "9105da9a",
   "metadata": {
    "execution": {
     "iopub.execute_input": "2021-12-08T15:45:29.252533Z",
     "iopub.status.busy": "2021-12-08T15:45:29.252266Z"
    },
    "papermill": {
     "duration": 0.096056,
     "end_time": "2021-12-10T10:39:22.438911",
     "exception": false,
     "start_time": "2021-12-10T10:39:22.342855",
     "status": "completed"
    },
    "tags": []
   },
   "source": [
    "tuner.search(train[new_vars], \n",
    "             train['ARRIVAL_DELAY'], \n",
    "             epochs=60, \n",
    "             validation_data=(val[new_vars], val['ARRIVAL_DELAY']),\n",
    "             callbacks = [stop_early])\n",
    "\n",
    "# Get the optimal hyperparameters\n",
    "best_hps=tuner.get_best_hyperparameters(num_trials=1)[0]\n",
    "\n",
    "print(f\"\"\"\n",
    "The hyperparameter search is complete. The optimal number of units in the first densely-connected\n",
    "layer is {best_hps.get('units')} and the optimal learning rate for the optimizer\n",
    "is {best_hps.get('learning_rate')}.\n",
    "\"\"\")"
   ]
  },
  {
   "cell_type": "markdown",
   "id": "153db5c9",
   "metadata": {
    "execution": {
     "iopub.execute_input": "2021-12-08T11:35:22.760684Z",
     "iopub.status.busy": "2021-12-08T11:35:22.76004Z",
     "iopub.status.idle": "2021-12-08T11:35:22.773542Z",
     "shell.execute_reply": "2021-12-08T11:35:22.772642Z",
     "shell.execute_reply.started": "2021-12-08T11:35:22.760638Z"
    },
    "papermill": {
     "duration": 0.031965,
     "end_time": "2021-12-10T10:39:22.502924",
     "exception": false,
     "start_time": "2021-12-10T10:39:22.470959",
     "status": "completed"
    },
    "tags": []
   },
   "source": [
    "def optimize_model(train_data, val_data, input_size = input_shape, input_columns = new_vars):\n",
    "    \n",
    "    def dense_training(train_df, val_df, list_of_params, input_size, input_columns, \n",
    "                       epochs, remove_outliers, batch_size, target_column = 'ARRIVAL_DELAY'):\n",
    "        \n",
    "        if remove_outliers:\n",
    "            z_scores = zscore(train_df[target_column])\n",
    "            abs_z_scores = np.abs(z_scores)\n",
    "            filtered_entries = (abs_z_scores < 3)\n",
    "            train_df = train_df[filtered_entries]\n",
    "        \n",
    "        stop_early = tf.keras.callbacks.EarlyStopping(monitor='val_loss', patience=5)\n",
    "        \n",
    "        model = build_model(list_of_params, input_size)\n",
    "        result = model.fit(train_df[input_columns], train_df[target_column], \n",
    "                        epochs=epochs, batch_size=batch_size, \n",
    "                        callbacks=[stop_early],\n",
    "                        validation_split=(val_df[input_columns],val_df[target_column]))\n",
    "        return result.history['val_loss']\n",
    "    \n",
    "                           \n",
    "    optimizer = BayesianOptimization(\n",
    "    f=dense_training,\n",
    "    pbounds={\n",
    "        'train_df': train_data,\n",
    "        'val_df' : val_data,\n",
    "        'input_size' : input_size,\n",
    "        'input_columns' : input_columns,\n",
    "        'remove outliers' : [True, False],\n",
    "        'list_of_params': [[200,100,50,25],[400,200,100,50,25],[800,400,200,100,50,25],[600,450,300,150,75,25]], \n",
    "        'epochs': (10,20,50,80,100),\n",
    "        'batch_size': (16,32,64)\n",
    "            },\n",
    "    random_state = 12,\n",
    "    verbose=2\n",
    "    )\n",
    "                           \n",
    "    optimizer.maximize(n_iter=10)\n",
    "\n",
    "    print(\"Final result:\", optimizer.max)"
   ]
  },
  {
   "cell_type": "markdown",
   "id": "a9728658",
   "metadata": {
    "papermill": {
     "duration": 0.032763,
     "end_time": "2021-12-10T10:39:22.568748",
     "exception": false,
     "start_time": "2021-12-10T10:39:22.535985",
     "status": "completed"
    },
    "tags": []
   },
   "source": [
    "tuner = kt.Hyperband(build_model,\n",
    "                     objective=\"val_accuracy\",\n",
    "                     max_epochs=100,\n",
    "                     factor=3,\n",
    "                     hyperband_iterations=10,\n",
    "                     directory=\"kt_dir\",\n",
    "                     project_name=\"kt_hyperband\",)"
   ]
  }
 ],
 "metadata": {
  "kernelspec": {
   "display_name": "Python 3",
   "language": "python",
   "name": "python3"
  },
  "language_info": {
   "codemirror_mode": {
    "name": "ipython",
    "version": 3
   },
   "file_extension": ".py",
   "mimetype": "text/x-python",
   "name": "python",
   "nbconvert_exporter": "python",
   "pygments_lexer": "ipython3",
   "version": "3.7.10"
  },
  "papermill": {
   "default_parameters": {},
   "duration": 90.847562,
   "end_time": "2021-12-10T10:39:25.609291",
   "environment_variables": {},
   "exception": null,
   "input_path": "__notebook__.ipynb",
   "output_path": "__notebook__.ipynb",
   "parameters": {},
   "start_time": "2021-12-10T10:37:54.761729",
   "version": "2.3.3"
  }
 },
 "nbformat": 4,
 "nbformat_minor": 5
}
